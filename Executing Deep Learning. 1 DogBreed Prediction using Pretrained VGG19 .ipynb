{
 "cells": [
  {
   "cell_type": "markdown",
   "metadata": {},
   "source": [
    "<img src=\"gullu.jpg\" width=\"300\">"
   ]
  },
  {
   "cell_type": "markdown",
   "metadata": {},
   "source": [
    "### Understanding Datasets\n",
    "* Link for data - https://www.kaggle.com/c/dog-breed-identification\n",
    "* train dir contains 10K dogs images\n",
    "* image name is id of image\n",
    "* labels.csv contains id vs breed mapping"
   ]
  },
  {
   "cell_type": "markdown",
   "metadata": {},
   "source": [
    "### Imports"
   ]
  },
  {
   "cell_type": "code",
   "execution_count": 1,
   "metadata": {},
   "outputs": [
    {
     "name": "stderr",
     "output_type": "stream",
     "text": [
      "/home/ubuntu/anaconda3/envs/tensorflow_p36/lib/python3.6/site-packages/h5py/__init__.py:36: FutureWarning: Conversion of the second argument of issubdtype from `float` to `np.floating` is deprecated. In future, it will be treated as `np.float64 == np.dtype(float).type`.\n",
      "  from ._conv import register_converters as _register_converters\n",
      "Using TensorFlow backend.\n"
     ]
    }
   ],
   "source": [
    "import os\n",
    "import numpy as np\n",
    "import pandas as pd\n",
    "from keras.utils import np_utils\n",
    "from sklearn.preprocessing import LabelEncoder\n",
    "\n",
    "from keras.applications.resnet50 import preprocess_input\n",
    "from keras.preprocessing.image import load_img\n",
    "from keras.preprocessing.image import img_to_array\n",
    "from keras.applications import imagenet_utils\n",
    "\n",
    "import matplotlib.pyplot as plt\n",
    "%matplotlib inline"
   ]
  },
  {
   "cell_type": "code",
   "execution_count": 2,
   "metadata": {},
   "outputs": [],
   "source": [
    "from keras.callbacks import EarlyStopping"
   ]
  },
  {
   "cell_type": "markdown",
   "metadata": {},
   "source": [
    "### train dir contains images"
   ]
  },
  {
   "cell_type": "code",
   "execution_count": 3,
   "metadata": {},
   "outputs": [],
   "source": [
    "base_dir = '.'\n",
    "data_dir = os.path.join(base_dir,'train')\n",
    "files = os.listdir(data_dir)"
   ]
  },
  {
   "cell_type": "markdown",
   "metadata": {},
   "source": [
    "### Target Information from labels.csv"
   ]
  },
  {
   "cell_type": "code",
   "execution_count": 4,
   "metadata": {},
   "outputs": [
    {
     "data": {
      "text/html": [
       "<div>\n",
       "<style scoped>\n",
       "    .dataframe tbody tr th:only-of-type {\n",
       "        vertical-align: middle;\n",
       "    }\n",
       "\n",
       "    .dataframe tbody tr th {\n",
       "        vertical-align: top;\n",
       "    }\n",
       "\n",
       "    .dataframe thead th {\n",
       "        text-align: right;\n",
       "    }\n",
       "</style>\n",
       "<table border=\"1\" class=\"dataframe\">\n",
       "  <thead>\n",
       "    <tr style=\"text-align: right;\">\n",
       "      <th></th>\n",
       "      <th>id</th>\n",
       "      <th>breed</th>\n",
       "    </tr>\n",
       "  </thead>\n",
       "  <tbody>\n",
       "    <tr>\n",
       "      <th>0</th>\n",
       "      <td>000bec180eb18c7604dcecc8fe0dba07</td>\n",
       "      <td>boston_bull</td>\n",
       "    </tr>\n",
       "    <tr>\n",
       "      <th>1</th>\n",
       "      <td>001513dfcb2ffafc82cccf4d8bbaba97</td>\n",
       "      <td>dingo</td>\n",
       "    </tr>\n",
       "    <tr>\n",
       "      <th>2</th>\n",
       "      <td>001cdf01b096e06d78e9e5112d419397</td>\n",
       "      <td>pekinese</td>\n",
       "    </tr>\n",
       "    <tr>\n",
       "      <th>3</th>\n",
       "      <td>00214f311d5d2247d5dfe4fe24b2303d</td>\n",
       "      <td>bluetick</td>\n",
       "    </tr>\n",
       "    <tr>\n",
       "      <th>4</th>\n",
       "      <td>0021f9ceb3235effd7fcde7f7538ed62</td>\n",
       "      <td>golden_retriever</td>\n",
       "    </tr>\n",
       "  </tbody>\n",
       "</table>\n",
       "</div>"
      ],
      "text/plain": [
       "                                 id             breed\n",
       "0  000bec180eb18c7604dcecc8fe0dba07       boston_bull\n",
       "1  001513dfcb2ffafc82cccf4d8bbaba97             dingo\n",
       "2  001cdf01b096e06d78e9e5112d419397          pekinese\n",
       "3  00214f311d5d2247d5dfe4fe24b2303d          bluetick\n",
       "4  0021f9ceb3235effd7fcde7f7538ed62  golden_retriever"
      ]
     },
     "execution_count": 4,
     "metadata": {},
     "output_type": "execute_result"
    }
   ],
   "source": [
    "labels = pd.read_csv(os.path.join(base_dir,'labels.csv'))\n",
    "labels.head()"
   ]
  },
  {
   "cell_type": "code",
   "execution_count": 5,
   "metadata": {},
   "outputs": [
    {
     "data": {
      "text/html": [
       "<div>\n",
       "<style scoped>\n",
       "    .dataframe tbody tr th:only-of-type {\n",
       "        vertical-align: middle;\n",
       "    }\n",
       "\n",
       "    .dataframe tbody tr th {\n",
       "        vertical-align: top;\n",
       "    }\n",
       "\n",
       "    .dataframe thead th {\n",
       "        text-align: right;\n",
       "    }\n",
       "</style>\n",
       "<table border=\"1\" class=\"dataframe\">\n",
       "  <thead>\n",
       "    <tr style=\"text-align: right;\">\n",
       "      <th></th>\n",
       "      <th>id</th>\n",
       "    </tr>\n",
       "  </thead>\n",
       "  <tbody>\n",
       "    <tr>\n",
       "      <th>0</th>\n",
       "      <td>3f06362327d11ca13c01a19182911927</td>\n",
       "    </tr>\n",
       "    <tr>\n",
       "      <th>1</th>\n",
       "      <td>28324516db1ad19c3b33c1b6ad397774</td>\n",
       "    </tr>\n",
       "    <tr>\n",
       "      <th>2</th>\n",
       "      <td>62b930bc746b25a1a68518194c0ef059</td>\n",
       "    </tr>\n",
       "    <tr>\n",
       "      <th>3</th>\n",
       "      <td>82cd7074fe9b46b58a0ef2b74457026b</td>\n",
       "    </tr>\n",
       "    <tr>\n",
       "      <th>4</th>\n",
       "      <td>369f1231c318aafcdcb56a0cdd63b5f0</td>\n",
       "    </tr>\n",
       "  </tbody>\n",
       "</table>\n",
       "</div>"
      ],
      "text/plain": [
       "                                 id\n",
       "0  3f06362327d11ca13c01a19182911927\n",
       "1  28324516db1ad19c3b33c1b6ad397774\n",
       "2  62b930bc746b25a1a68518194c0ef059\n",
       "3  82cd7074fe9b46b58a0ef2b74457026b\n",
       "4  369f1231c318aafcdcb56a0cdd63b5f0"
      ]
     },
     "execution_count": 5,
     "metadata": {},
     "output_type": "execute_result"
    }
   ],
   "source": [
    "file_df = pd.DataFrame({'id':list(map(lambda x:x.replace('.jpg',''),files))})\n",
    "file_df.head()"
   ]
  },
  {
   "cell_type": "markdown",
   "metadata": {},
   "source": [
    "### Mapping File with breed, maintain file read order"
   ]
  },
  {
   "cell_type": "code",
   "execution_count": 6,
   "metadata": {},
   "outputs": [
    {
     "data": {
      "text/html": [
       "<div>\n",
       "<style scoped>\n",
       "    .dataframe tbody tr th:only-of-type {\n",
       "        vertical-align: middle;\n",
       "    }\n",
       "\n",
       "    .dataframe tbody tr th {\n",
       "        vertical-align: top;\n",
       "    }\n",
       "\n",
       "    .dataframe thead th {\n",
       "        text-align: right;\n",
       "    }\n",
       "</style>\n",
       "<table border=\"1\" class=\"dataframe\">\n",
       "  <thead>\n",
       "    <tr style=\"text-align: right;\">\n",
       "      <th></th>\n",
       "      <th>id</th>\n",
       "      <th>breed</th>\n",
       "    </tr>\n",
       "  </thead>\n",
       "  <tbody>\n",
       "    <tr>\n",
       "      <th>0</th>\n",
       "      <td>3f06362327d11ca13c01a19182911927</td>\n",
       "      <td>scotch_terrier</td>\n",
       "    </tr>\n",
       "    <tr>\n",
       "      <th>1</th>\n",
       "      <td>28324516db1ad19c3b33c1b6ad397774</td>\n",
       "      <td>giant_schnauzer</td>\n",
       "    </tr>\n",
       "    <tr>\n",
       "      <th>2</th>\n",
       "      <td>62b930bc746b25a1a68518194c0ef059</td>\n",
       "      <td>chihuahua</td>\n",
       "    </tr>\n",
       "    <tr>\n",
       "      <th>3</th>\n",
       "      <td>82cd7074fe9b46b58a0ef2b74457026b</td>\n",
       "      <td>cocker_spaniel</td>\n",
       "    </tr>\n",
       "    <tr>\n",
       "      <th>4</th>\n",
       "      <td>369f1231c318aafcdcb56a0cdd63b5f0</td>\n",
       "      <td>appenzeller</td>\n",
       "    </tr>\n",
       "  </tbody>\n",
       "</table>\n",
       "</div>"
      ],
      "text/plain": [
       "                                 id            breed\n",
       "0  3f06362327d11ca13c01a19182911927   scotch_terrier\n",
       "1  28324516db1ad19c3b33c1b6ad397774  giant_schnauzer\n",
       "2  62b930bc746b25a1a68518194c0ef059        chihuahua\n",
       "3  82cd7074fe9b46b58a0ef2b74457026b   cocker_spaniel\n",
       "4  369f1231c318aafcdcb56a0cdd63b5f0      appenzeller"
      ]
     },
     "execution_count": 6,
     "metadata": {},
     "output_type": "execute_result"
    }
   ],
   "source": [
    "label_info = pd.merge(left=file_df, right=labels)\n",
    "label_info.head()"
   ]
  },
  {
   "cell_type": "markdown",
   "metadata": {},
   "source": [
    "### showing a few of them\n",
    "#### 1st Image"
   ]
  },
  {
   "cell_type": "code",
   "execution_count": 7,
   "metadata": {},
   "outputs": [],
   "source": [
    "img = plt.imread(os.path.join(data_dir,files[1]))"
   ]
  },
  {
   "cell_type": "code",
   "execution_count": 8,
   "metadata": {},
   "outputs": [
    {
     "data": {
      "image/png": "[encoded data removed]",
      "text/plain": [
       "<Figure size 432x288 with 1 Axes>"
      ]
     },
     "metadata": {},
     "output_type": "display_data"
    }
   ],
   "source": [
    "plt.imshow(img)\n",
    "plt.title(label_info.iloc[1]['breed'])\n",
    "plt.show()"
   ]
  },
  {
   "cell_type": "markdown",
   "metadata": {},
   "source": [
    "### Converting target to One-Hot-Vector Format"
   ]
  },
  {
   "cell_type": "code",
   "execution_count": 9,
   "metadata": {},
   "outputs": [
    {
     "data": {
      "text/plain": [
       "120"
      ]
     },
     "execution_count": 9,
     "metadata": {},
     "output_type": "execute_result"
    }
   ],
   "source": [
    "num_classes = len(label_info.breed.unique())\n",
    "num_classes"
   ]
  },
  {
   "cell_type": "code",
   "execution_count": 10,
   "metadata": {},
   "outputs": [],
   "source": [
    "le = LabelEncoder()\n",
    "breed = le.fit_transform(label_info.breed)\n",
    "Y = np_utils.to_categorical(breed,num_classes=num_classes)"
   ]
  },
  {
   "cell_type": "code",
   "execution_count": 11,
   "metadata": {},
   "outputs": [
    {
     "data": {
      "text/plain": [
       "(10222, 120)"
      ]
     },
     "execution_count": 11,
     "metadata": {},
     "output_type": "execute_result"
    }
   ],
   "source": [
    "Y.shape"
   ]
  },
  {
   "cell_type": "markdown",
   "metadata": {},
   "source": [
    "### Convert images to numpy array"
   ]
  },
  {
   "cell_type": "code",
   "execution_count": 12,
   "metadata": {},
   "outputs": [],
   "source": [
    "input_dim = (224, 224)\n",
    "\n",
    "X = np.zeros((Y.shape[0],*input_dim,3))\n",
    "\n",
    "for i,img in enumerate(files):\n",
    "    image = load_img(os.path.join(data_dir,img),target_size=input_dim)\n",
    "    image = img_to_array(image)\n",
    "    image = image.reshape((1, *image.shape))\n",
    "    image = preprocess_input(image)\n",
    "    X[i] = image"
   ]
  },
  {
   "cell_type": "code",
   "execution_count": 13,
   "metadata": {},
   "outputs": [
    {
     "data": {
      "text/plain": [
       "(10222, 224, 224, 3)"
      ]
     },
     "execution_count": 13,
     "metadata": {},
     "output_type": "execute_result"
    }
   ],
   "source": [
    "X.shape"
   ]
  },
  {
   "cell_type": "markdown",
   "metadata": {},
   "source": [
    "### Create callbacks"
   ]
  },
  {
   "cell_type": "code",
   "execution_count": 17,
   "metadata": {},
   "outputs": [],
   "source": [
    "earlystop = EarlyStopping(monitor='val_loss', min_delta=0, patience=2, verbose=0, mode='auto')"
   ]
  },
  {
   "cell_type": "markdown",
   "metadata": {},
   "source": [
    "<img src=\"https://alexisbcook.github.io/assets/global_average_pooling.png\"  height=\"600\" width=\"600\">"
   ]
  },
  {
   "cell_type": "code",
   "execution_count": 34,
   "metadata": {},
   "outputs": [
    {
     "name": "stdout",
     "output_type": "stream",
     "text": [
      "_________________________________________________________________\n",
      "Layer (type)                 Output Shape              Param #   \n",
      "=================================================================\n",
      "input_2 (InputLayer)         (None, None, None, 3)     0         \n",
      "_________________________________________________________________\n",
      "block1_conv1 (Conv2D)        (None, None, None, 64)    1792      \n",
      "_________________________________________________________________\n",
      "block1_conv2 (Conv2D)        (None, None, None, 64)    36928     \n",
      "_________________________________________________________________\n",
      "block1_pool (MaxPooling2D)   (None, None, None, 64)    0         \n",
      "_________________________________________________________________\n",
      "block2_conv1 (Conv2D)        (None, None, None, 128)   73856     \n",
      "_________________________________________________________________\n",
      "block2_conv2 (Conv2D)        (None, None, None, 128)   147584    \n",
      "_________________________________________________________________\n",
      "block2_pool (MaxPooling2D)   (None, None, None, 128)   0         \n",
      "_________________________________________________________________\n",
      "block3_conv1 (Conv2D)        (None, None, None, 256)   295168    \n",
      "_________________________________________________________________\n",
      "block3_conv2 (Conv2D)        (None, None, None, 256)   590080    \n",
      "_________________________________________________________________\n",
      "block3_conv3 (Conv2D)        (None, None, None, 256)   590080    \n",
      "_________________________________________________________________\n",
      "block3_conv4 (Conv2D)        (None, None, None, 256)   590080    \n",
      "_________________________________________________________________\n",
      "block3_pool (MaxPooling2D)   (None, None, None, 256)   0         \n",
      "_________________________________________________________________\n",
      "block4_conv1 (Conv2D)        (None, None, None, 512)   1180160   \n",
      "_________________________________________________________________\n",
      "block4_conv2 (Conv2D)        (None, None, None, 512)   2359808   \n",
      "_________________________________________________________________\n",
      "block4_conv3 (Conv2D)        (None, None, None, 512)   2359808   \n",
      "_________________________________________________________________\n",
      "block4_conv4 (Conv2D)        (None, None, None, 512)   2359808   \n",
      "_________________________________________________________________\n",
      "block4_pool (MaxPooling2D)   (None, None, None, 512)   0         \n",
      "_________________________________________________________________\n",
      "block5_conv1 (Conv2D)        (None, None, None, 512)   2359808   \n",
      "_________________________________________________________________\n",
      "block5_conv2 (Conv2D)        (None, None, None, 512)   2359808   \n",
      "_________________________________________________________________\n",
      "block5_conv3 (Conv2D)        (None, None, None, 512)   2359808   \n",
      "_________________________________________________________________\n",
      "block5_conv4 (Conv2D)        (None, None, None, 512)   2359808   \n",
      "_________________________________________________________________\n",
      "block5_pool (MaxPooling2D)   (None, None, None, 512)   0         \n",
      "_________________________________________________________________\n",
      "global_average_pooling2d_2 ( (None, 512)               0         \n",
      "_________________________________________________________________\n",
      "dropout_2 (Dropout)          (None, 512)               0         \n",
      "_________________________________________________________________\n",
      "dense_2 (Dense)              (None, 120)               61560     \n",
      "=================================================================\n",
      "Total params: 20,085,944\n",
      "Trainable params: 61,560\n",
      "Non-trainable params: 20,024,384\n",
      "_________________________________________________________________\n"
     ]
    }
   ],
   "source": [
    "from keras.applications.vgg19 import VGG19\n",
    "from keras.models import Model\n",
    "from keras.layers import Dense,GlobalAveragePooling2D, Flatten,Dropout\n",
    "\n",
    "vgg_model = VGG19(weights='imagenet', include_top=False)\n",
    "\n",
    "x = vgg_model.output\n",
    "x = GlobalAveragePooling2D()(x)\n",
    "x = Dropout(0.2)(x)\n",
    "out = Dense(120, activation='softmax')(x)\n",
    "\n",
    "model = Model(inputs=vgg_model.input, outputs=out)\n",
    "\n",
    "for layer in vgg_model.layers:\n",
    "    layer.trainable = False\n",
    "\n",
    "from keras.optimizers import Adam\n",
    "opt = Adam()\n",
    "\n",
    "model.compile(optimizer=opt, loss='categorical_crossentropy', metrics=['accuracy'])\n",
    "model.summary()"
   ]
  },
  {
   "cell_type": "code",
   "execution_count": 35,
   "metadata": {},
   "outputs": [
    {
     "name": "stdout",
     "output_type": "stream",
     "text": [
      "Train on 8177 samples, validate on 2045 samples\n",
      "Epoch 1/20\n",
      " - 135s - loss: 13.4232 - acc: 0.0245 - val_loss: 10.5791 - val_acc: 0.0748\n",
      "Epoch 2/20\n",
      " - 136s - loss: 10.0468 - acc: 0.1228 - val_loss: 7.4871 - val_acc: 0.2264\n",
      "Epoch 3/20\n",
      " - 136s - loss: 7.2840 - acc: 0.2463 - val_loss: 5.8475 - val_acc: 0.3350\n",
      "Epoch 4/20\n",
      " - 136s - loss: 5.7772 - acc: 0.3501 - val_loss: 4.9258 - val_acc: 0.4186\n",
      "Epoch 5/20\n",
      " - 136s - loss: 4.7255 - acc: 0.4338 - val_loss: 4.4194 - val_acc: 0.4489\n",
      "Epoch 6/20\n",
      " - 136s - loss: 4.0151 - acc: 0.4900 - val_loss: 3.7430 - val_acc: 0.4949\n",
      "Epoch 7/20\n",
      " - 136s - loss: 3.4519 - acc: 0.5379 - val_loss: 3.3432 - val_acc: 0.5257\n",
      "Epoch 8/20\n",
      " - 136s - loss: 3.0908 - acc: 0.5706 - val_loss: 3.2381 - val_acc: 0.5506\n",
      "Epoch 9/20\n",
      " - 136s - loss: 2.8388 - acc: 0.6061 - val_loss: 3.1729 - val_acc: 0.5535\n",
      "Epoch 10/20\n",
      " - 136s - loss: 2.5378 - acc: 0.6283 - val_loss: 2.9195 - val_acc: 0.5672\n",
      "Epoch 11/20\n",
      " - 136s - loss: 2.2752 - acc: 0.6466 - val_loss: 2.8188 - val_acc: 0.5804\n",
      "Epoch 12/20\n",
      " - 136s - loss: 2.1779 - acc: 0.6697 - val_loss: 2.7916 - val_acc: 0.5770\n",
      "Epoch 13/20\n",
      " - 136s - loss: 1.9945 - acc: 0.6889 - val_loss: 2.7345 - val_acc: 0.5995\n",
      "Epoch 14/20\n",
      " - 136s - loss: 1.8754 - acc: 0.7098 - val_loss: 2.6808 - val_acc: 0.5946\n",
      "Epoch 15/20\n",
      " - 136s - loss: 1.7794 - acc: 0.7226 - val_loss: 2.6496 - val_acc: 0.6093\n",
      "Epoch 16/20\n",
      " - 136s - loss: 1.7225 - acc: 0.7367 - val_loss: 2.6530 - val_acc: 0.6054\n",
      "Epoch 17/20\n",
      " - 136s - loss: 1.6378 - acc: 0.7495 - val_loss: 2.6331 - val_acc: 0.6108\n",
      "Epoch 18/20\n",
      " - 136s - loss: 1.5969 - acc: 0.7493 - val_loss: 2.6190 - val_acc: 0.6029\n",
      "Epoch 19/20\n",
      " - 136s - loss: 1.5796 - acc: 0.7634 - val_loss: 2.5788 - val_acc: 0.6269\n",
      "Epoch 20/20\n",
      " - 136s - loss: 1.5129 - acc: 0.7703 - val_loss: 2.5792 - val_acc: 0.6147\n"
     ]
    }
   ],
   "source": [
    "history_last_layer = model.fit(X,Y,batch_size=256,epochs=20,validation_split=0.2,verbose=2,callbacks=[earlystop])\n",
    "model.save('modellastlayer.h5')"
   ]
  },
  {
   "cell_type": "code",
   "execution_count": 37,
   "metadata": {},
   "outputs": [
    {
     "data": {
      "text/plain": [
       "dict_keys(['val_loss', 'val_acc', 'loss', 'acc'])"
      ]
     },
     "execution_count": 37,
     "metadata": {},
     "output_type": "execute_result"
    }
   ],
   "source": [
    "history_last_layer.history.keys()"
   ]
  },
  {
   "cell_type": "code",
   "execution_count": 39,
   "metadata": {},
   "outputs": [],
   "source": [
    "val_acc = history_last_layer.history.get('val_acc')"
   ]
  },
  {
   "cell_type": "code",
   "execution_count": 40,
   "metadata": {},
   "outputs": [],
   "source": [
    "acc = history_last_layer.history.get('acc')"
   ]
  },
  {
   "cell_type": "code",
   "execution_count": 42,
   "metadata": {},
   "outputs": [],
   "source": [
    "overfit_info = pd.DataFrame({'acc':acc, 'val_acc':val_acc})"
   ]
  },
  {
   "cell_type": "code",
   "execution_count": 43,
   "metadata": {},
   "outputs": [
    {
     "data": {
      "text/plain": [
       "<matplotlib.axes._subplots.AxesSubplot at 0x7f074a4532e8>"
      ]
     },
     "execution_count": 43,
     "metadata": {},
     "output_type": "execute_result"
    },
    {
     "data": {
      "image/png": "[encoded data removed]",
      "text/plain": [
       "<Figure size 432x288 with 1 Axes>"
      ]
     },
     "metadata": {},
     "output_type": "display_data"
    }
   ],
   "source": [
    "overfit_info.plot.line()"
   ]
  },
  {
   "cell_type": "markdown",
   "metadata": {},
   "source": [
    "### Apart from last layer, training one more layer"
   ]
  },
  {
   "cell_type": "code",
   "execution_count": 15,
   "metadata": {},
   "outputs": [
    {
     "name": "stdout",
     "output_type": "stream",
     "text": [
      "_________________________________________________________________\n",
      "Layer (type)                 Output Shape              Param #   \n",
      "=================================================================\n",
      "input_1 (InputLayer)         (None, None, None, 3)     0         \n",
      "_________________________________________________________________\n",
      "block1_conv1 (Conv2D)        (None, None, None, 64)    1792      \n",
      "_________________________________________________________________\n",
      "block1_conv2 (Conv2D)        (None, None, None, 64)    36928     \n",
      "_________________________________________________________________\n",
      "block1_pool (MaxPooling2D)   (None, None, None, 64)    0         \n",
      "_________________________________________________________________\n",
      "block2_conv1 (Conv2D)        (None, None, None, 128)   73856     \n",
      "_________________________________________________________________\n",
      "block2_conv2 (Conv2D)        (None, None, None, 128)   147584    \n",
      "_________________________________________________________________\n",
      "block2_pool (MaxPooling2D)   (None, None, None, 128)   0         \n",
      "_________________________________________________________________\n",
      "block3_conv1 (Conv2D)        (None, None, None, 256)   295168    \n",
      "_________________________________________________________________\n",
      "block3_conv2 (Conv2D)        (None, None, None, 256)   590080    \n",
      "_________________________________________________________________\n",
      "block3_conv3 (Conv2D)        (None, None, None, 256)   590080    \n",
      "_________________________________________________________________\n",
      "block3_conv4 (Conv2D)        (None, None, None, 256)   590080    \n",
      "_________________________________________________________________\n",
      "block3_pool (MaxPooling2D)   (None, None, None, 256)   0         \n",
      "_________________________________________________________________\n",
      "block4_conv1 (Conv2D)        (None, None, None, 512)   1180160   \n",
      "_________________________________________________________________\n",
      "block4_conv2 (Conv2D)        (None, None, None, 512)   2359808   \n",
      "_________________________________________________________________\n",
      "block4_conv3 (Conv2D)        (None, None, None, 512)   2359808   \n",
      "_________________________________________________________________\n",
      "block4_conv4 (Conv2D)        (None, None, None, 512)   2359808   \n",
      "_________________________________________________________________\n",
      "block4_pool (MaxPooling2D)   (None, None, None, 512)   0         \n",
      "_________________________________________________________________\n",
      "block5_conv1 (Conv2D)        (None, None, None, 512)   2359808   \n",
      "_________________________________________________________________\n",
      "block5_conv2 (Conv2D)        (None, None, None, 512)   2359808   \n",
      "_________________________________________________________________\n",
      "block5_conv3 (Conv2D)        (None, None, None, 512)   2359808   \n",
      "_________________________________________________________________\n",
      "block5_conv4 (Conv2D)        (None, None, None, 512)   2359808   \n",
      "_________________________________________________________________\n",
      "block5_pool (MaxPooling2D)   (None, None, None, 512)   0         \n",
      "_________________________________________________________________\n",
      "global_average_pooling2d_1 ( (None, 512)               0         \n",
      "_________________________________________________________________\n",
      "dropout_1 (Dropout)          (None, 512)               0         \n",
      "_________________________________________________________________\n",
      "dense_1 (Dense)              (None, 120)               61560     \n",
      "=================================================================\n",
      "Total params: 20,085,944\n",
      "Trainable params: 61,560\n",
      "Non-trainable params: 20,024,384\n",
      "_________________________________________________________________\n"
     ]
    }
   ],
   "source": [
    "from keras.applications.vgg19 import VGG19\n",
    "from keras.models import Model\n",
    "from keras.layers import Dense,GlobalAveragePooling2D, Flatten,Dropout\n",
    "\n",
    "vgg_model = VGG19(weights='imagenet', include_top=False)\n",
    "\n",
    "x = vgg_model.output\n",
    "x = GlobalAveragePooling2D()(x)\n",
    "x = Dropout(0.3)(x)\n",
    "out = Dense(120, activation='softmax')(x)\n",
    "\n",
    "model_few_layers = Model(inputs=vgg_model.input, outputs=out)\n",
    "\n",
    "for layer in vgg_model.layers[:-1]:\n",
    "    layer.trainable = False\n",
    "\n",
    "for layer in vgg_model.layers[-1:]:\n",
    "    layer.trainable = True\n",
    "\n",
    "from keras.optimizers import Adam\n",
    "opt = Adam()\n",
    "\n",
    "model_few_layers.compile(optimizer=opt, loss='categorical_crossentropy', metrics=['accuracy'])\n",
    "model_few_layers.summary()"
   ]
  },
  {
   "cell_type": "code",
   "execution_count": 18,
   "metadata": {},
   "outputs": [
    {
     "name": "stdout",
     "output_type": "stream",
     "text": [
      "Train on 8177 samples, validate on 2045 samples\n",
      "Epoch 1/20\n",
      " - 177s - loss: 13.7888 - acc: 0.0257 - val_loss: 10.7067 - val_acc: 0.0905\n",
      "Epoch 2/20\n",
      " - 135s - loss: 11.2785 - acc: 0.0939 - val_loss: 8.2084 - val_acc: 0.2171\n",
      "Epoch 3/20\n",
      " - 136s - loss: 9.1731 - acc: 0.1863 - val_loss: 6.6941 - val_acc: 0.3110\n",
      "Epoch 4/20\n",
      " - 136s - loss: 7.5388 - acc: 0.2710 - val_loss: 5.5724 - val_acc: 0.3667\n",
      "Epoch 5/20\n",
      " - 136s - loss: 6.2813 - acc: 0.3440 - val_loss: 4.7478 - val_acc: 0.4225\n",
      "Epoch 6/20\n",
      " - 136s - loss: 5.3405 - acc: 0.4083 - val_loss: 4.1198 - val_acc: 0.4694\n",
      "Epoch 7/20\n",
      " - 136s - loss: 4.6260 - acc: 0.4582 - val_loss: 3.8513 - val_acc: 0.4939\n",
      "Epoch 8/20\n",
      " - 136s - loss: 4.1823 - acc: 0.4983 - val_loss: 3.5633 - val_acc: 0.5247\n",
      "Epoch 9/20\n",
      " - 136s - loss: 3.8248 - acc: 0.5266 - val_loss: 3.3768 - val_acc: 0.5550\n",
      "Epoch 10/20\n",
      " - 136s - loss: 3.4999 - acc: 0.5480 - val_loss: 3.2600 - val_acc: 0.5423\n",
      "Epoch 11/20\n",
      " - 136s - loss: 3.1300 - acc: 0.5797 - val_loss: 2.9761 - val_acc: 0.5731\n",
      "Epoch 12/20\n",
      " - 136s - loss: 2.8672 - acc: 0.6101 - val_loss: 2.8261 - val_acc: 0.5775\n",
      "Epoch 13/20\n",
      " - 136s - loss: 2.6518 - acc: 0.6233 - val_loss: 2.6091 - val_acc: 0.5985\n",
      "Epoch 14/20\n",
      " - 136s - loss: 2.4348 - acc: 0.6441 - val_loss: 2.5168 - val_acc: 0.5961\n",
      "Epoch 15/20\n",
      " - 135s - loss: 2.2722 - acc: 0.6631 - val_loss: 2.4467 - val_acc: 0.6161\n",
      "Epoch 16/20\n",
      " - 136s - loss: 2.1412 - acc: 0.6696 - val_loss: 2.4059 - val_acc: 0.6127\n",
      "Epoch 17/20\n",
      " - 136s - loss: 2.0164 - acc: 0.6873 - val_loss: 2.3833 - val_acc: 0.6112\n",
      "Epoch 18/20\n",
      " - 135s - loss: 1.9139 - acc: 0.7047 - val_loss: 2.3738 - val_acc: 0.6191\n",
      "Epoch 19/20\n",
      " - 136s - loss: 1.8377 - acc: 0.7093 - val_loss: 2.3517 - val_acc: 0.6181\n",
      "Epoch 20/20\n",
      " - 136s - loss: 1.7588 - acc: 0.7253 - val_loss: 2.3010 - val_acc: 0.6225\n"
     ]
    }
   ],
   "source": [
    "history_few_layers = model_few_layers.fit(X,Y,batch_size=256,epochs=20,validation_split=0.2,verbose=2,callbacks=[earlystop])\n",
    "model_few_layers.save('modelfewlayer.h5')"
   ]
  },
  {
   "cell_type": "code",
   "execution_count": 19,
   "metadata": {},
   "outputs": [],
   "source": [
    "val_acc = history_few_layers.history.get('val_acc')"
   ]
  },
  {
   "cell_type": "code",
   "execution_count": 20,
   "metadata": {},
   "outputs": [],
   "source": [
    "acc = history_few_layers.history.get('acc')"
   ]
  },
  {
   "cell_type": "code",
   "execution_count": 21,
   "metadata": {},
   "outputs": [],
   "source": [
    "overfit_info = pd.DataFrame({'acc':acc, 'val_acc':val_acc})"
   ]
  },
  {
   "cell_type": "code",
   "execution_count": 22,
   "metadata": {},
   "outputs": [
    {
     "data": {
      "text/plain": [
       "<matplotlib.axes._subplots.AxesSubplot at 0x7ff214120908>"
      ]
     },
     "execution_count": 22,
     "metadata": {},
     "output_type": "execute_result"
    },
    {
     "data": {
      "image/png": "[encoded data removed]",
      "text/plain": [
       "<Figure size 432x288 with 1 Axes>"
      ]
     },
     "metadata": {},
     "output_type": "display_data"
    }
   ],
   "source": [
    "overfit_info.plot.line()"
   ]
  },
  {
   "cell_type": "code",
   "execution_count": 27,
   "metadata": {},
   "outputs": [
    {
     "name": "stdout",
     "output_type": "stream",
     "text": [
      "_________________________________________________________________\n",
      "Layer (type)                 Output Shape              Param #   \n",
      "=================================================================\n",
      "input_4 (InputLayer)         (None, None, None, 3)     0         \n",
      "_________________________________________________________________\n",
      "block1_conv1 (Conv2D)        (None, None, None, 64)    1792      \n",
      "_________________________________________________________________\n",
      "block1_conv2 (Conv2D)        (None, None, None, 64)    36928     \n",
      "_________________________________________________________________\n",
      "block1_pool (MaxPooling2D)   (None, None, None, 64)    0         \n",
      "_________________________________________________________________\n",
      "block2_conv1 (Conv2D)        (None, None, None, 128)   73856     \n",
      "_________________________________________________________________\n",
      "block2_conv2 (Conv2D)        (None, None, None, 128)   147584    \n",
      "_________________________________________________________________\n",
      "block2_pool (MaxPooling2D)   (None, None, None, 128)   0         \n",
      "_________________________________________________________________\n",
      "block3_conv1 (Conv2D)        (None, None, None, 256)   295168    \n",
      "_________________________________________________________________\n",
      "block3_conv2 (Conv2D)        (None, None, None, 256)   590080    \n",
      "_________________________________________________________________\n",
      "block3_conv3 (Conv2D)        (None, None, None, 256)   590080    \n",
      "_________________________________________________________________\n",
      "block3_conv4 (Conv2D)        (None, None, None, 256)   590080    \n",
      "_________________________________________________________________\n",
      "block3_pool (MaxPooling2D)   (None, None, None, 256)   0         \n",
      "_________________________________________________________________\n",
      "block4_conv1 (Conv2D)        (None, None, None, 512)   1180160   \n",
      "_________________________________________________________________\n",
      "block4_conv2 (Conv2D)        (None, None, None, 512)   2359808   \n",
      "_________________________________________________________________\n",
      "block4_conv3 (Conv2D)        (None, None, None, 512)   2359808   \n",
      "_________________________________________________________________\n",
      "block4_conv4 (Conv2D)        (None, None, None, 512)   2359808   \n",
      "_________________________________________________________________\n",
      "block4_pool (MaxPooling2D)   (None, None, None, 512)   0         \n",
      "_________________________________________________________________\n",
      "block5_conv1 (Conv2D)        (None, None, None, 512)   2359808   \n",
      "_________________________________________________________________\n",
      "block5_conv2 (Conv2D)        (None, None, None, 512)   2359808   \n",
      "_________________________________________________________________\n",
      "block5_conv3 (Conv2D)        (None, None, None, 512)   2359808   \n",
      "_________________________________________________________________\n",
      "block5_conv4 (Conv2D)        (None, None, None, 512)   2359808   \n",
      "_________________________________________________________________\n",
      "block5_pool (MaxPooling2D)   (None, None, None, 512)   0         \n",
      "_________________________________________________________________\n",
      "global_average_pooling2d_4 ( (None, 512)               0         \n",
      "_________________________________________________________________\n",
      "dropout_4 (Dropout)          (None, 512)               0         \n",
      "_________________________________________________________________\n",
      "dense_4 (Dense)              (None, 120)               61560     \n",
      "=================================================================\n",
      "Total params: 20,085,944\n",
      "Trainable params: 2,421,368\n",
      "Non-trainable params: 17,664,576\n",
      "_________________________________________________________________\n"
     ]
    }
   ],
   "source": [
    "from keras.applications.vgg19 import VGG19\n",
    "from keras.models import Model\n",
    "from keras.layers import Dense,GlobalAveragePooling2D, Flatten,Dropout\n",
    "\n",
    "vgg_model = VGG19(weights='imagenet', include_top=False)\n",
    "\n",
    "x = vgg_model.output\n",
    "x = GlobalAveragePooling2D()(x)\n",
    "x = Dropout(0.3)(x)\n",
    "out = Dense(120, activation='softmax')(x)\n",
    "\n",
    "model_few2_layers = Model(inputs=vgg_model.input, outputs=out)\n",
    "\n",
    "for layer in vgg_model.layers[:-2]:\n",
    "    layer.trainable = False\n",
    "\n",
    "for layer in vgg_model.layers[-2:]:\n",
    "    layer.trainable = True\n",
    "\n",
    "from keras.optimizers import Adam\n",
    "opt = Adam()\n",
    "\n",
    "model_few2_layers.compile(optimizer=opt, loss='categorical_crossentropy', metrics=['accuracy'])\n",
    "model_few2_layers.summary()"
   ]
  },
  {
   "cell_type": "code",
   "execution_count": 28,
   "metadata": {},
   "outputs": [
    {
     "name": "stdout",
     "output_type": "stream",
     "text": [
      "Train on 8177 samples, validate on 2045 samples\n",
      "Epoch 1/20\n",
      " - 137s - loss: 15.0389 - acc: 0.0440 - val_loss: 14.5606 - val_acc: 0.0831\n",
      "Epoch 2/20\n",
      " - 137s - loss: 14.4771 - acc: 0.0827 - val_loss: 13.7797 - val_acc: 0.1208\n",
      "Epoch 3/20\n",
      " - 137s - loss: 13.4738 - acc: 0.1365 - val_loss: 12.4639 - val_acc: 0.1814\n",
      "Epoch 4/20\n",
      " - 137s - loss: 9.1730 - acc: 0.1662 - val_loss: 4.2871 - val_acc: 0.1359\n",
      "Epoch 5/20\n",
      " - 137s - loss: 3.6227 - acc: 0.2044 - val_loss: 2.7911 - val_acc: 0.3384\n",
      "Epoch 6/20\n",
      " - 137s - loss: 2.3950 - acc: 0.4056 - val_loss: 2.0131 - val_acc: 0.4577\n",
      "Epoch 7/20\n",
      " - 137s - loss: 1.6561 - acc: 0.5522 - val_loss: 1.7692 - val_acc: 0.5159\n",
      "Epoch 8/20\n",
      " - 137s - loss: 1.2442 - acc: 0.6482 - val_loss: 1.7068 - val_acc: 0.5443\n",
      "Epoch 9/20\n",
      " - 137s - loss: 0.9561 - acc: 0.7218 - val_loss: 1.6001 - val_acc: 0.5770\n",
      "Epoch 10/20\n",
      " - 137s - loss: 0.7386 - acc: 0.7773 - val_loss: 1.5761 - val_acc: 0.5653\n",
      "Epoch 11/20\n",
      " - 137s - loss: 0.5731 - acc: 0.8296 - val_loss: 1.5571 - val_acc: 0.5907\n",
      "Epoch 12/20\n",
      " - 137s - loss: 0.4695 - acc: 0.8573 - val_loss: 1.5539 - val_acc: 0.6039\n",
      "Epoch 13/20\n",
      " - 137s - loss: 0.3705 - acc: 0.8874 - val_loss: 1.6368 - val_acc: 0.5897\n",
      "Epoch 14/20\n",
      " - 137s - loss: 0.3133 - acc: 0.9069 - val_loss: 1.6462 - val_acc: 0.5936\n",
      "Epoch 15/20\n",
      " - 137s - loss: 0.2452 - acc: 0.9267 - val_loss: 1.6727 - val_acc: 0.6054\n",
      "Epoch 16/20\n",
      " - 137s - loss: 0.2137 - acc: 0.9391 - val_loss: 1.7123 - val_acc: 0.6034\n",
      "Epoch 17/20\n",
      " - 137s - loss: 0.2035 - acc: 0.9382 - val_loss: 1.7157 - val_acc: 0.6000\n",
      "Epoch 18/20\n",
      " - 137s - loss: 0.1725 - acc: 0.9492 - val_loss: 1.6927 - val_acc: 0.6034\n",
      "Epoch 19/20\n",
      " - 137s - loss: 0.1604 - acc: 0.9528 - val_loss: 1.7105 - val_acc: 0.6010\n",
      "Epoch 20/20\n",
      " - 137s - loss: 0.1557 - acc: 0.9541 - val_loss: 1.7349 - val_acc: 0.6039\n"
     ]
    }
   ],
   "source": [
    "history_few2_layers = model_few2_layers.fit(X,Y,batch_size=256,epochs=20,validation_split=0.2,verbose=2)\n",
    "model_few2_layers.save('modelfew2layer.h5')"
   ]
  },
  {
   "cell_type": "code",
   "execution_count": 29,
   "metadata": {},
   "outputs": [],
   "source": [
    "val_acc = history_few2_layers.history.get('val_acc')"
   ]
  },
  {
   "cell_type": "code",
   "execution_count": 30,
   "metadata": {},
   "outputs": [],
   "source": [
    "acc = history_few2_layers.history.get('acc')"
   ]
  },
  {
   "cell_type": "code",
   "execution_count": 31,
   "metadata": {},
   "outputs": [],
   "source": [
    "overfit_info = pd.DataFrame({'acc':acc, 'val_acc':val_acc})"
   ]
  },
  {
   "cell_type": "code",
   "execution_count": 32,
   "metadata": {},
   "outputs": [
    {
     "data": {
      "text/plain": [
       "<matplotlib.axes._subplots.AxesSubplot at 0x7feee647d668>"
      ]
     },
     "execution_count": 32,
     "metadata": {},
     "output_type": "execute_result"
    },
    {
     "data": {
      "image/png": "[encoded data removed]",
      "text/plain": [
       "<Figure size 432x288 with 1 Axes>"
      ]
     },
     "metadata": {},
     "output_type": "display_data"
    }
   ],
   "source": [
    "overfit_info.plot.line()"
   ]
  },
  {
   "cell_type": "markdown",
   "metadata": {},
   "source": [
    "### Verifying models for top 3 prediction on Training Data"
   ]
  },
  {
   "cell_type": "code",
   "execution_count": 33,
   "metadata": {},
   "outputs": [],
   "source": [
    "from keras.models import load_model"
   ]
  },
  {
   "cell_type": "code",
   "execution_count": 43,
   "metadata": {},
   "outputs": [
    {
     "name": "stdout",
     "output_type": "stream",
     "text": [
      "modellastlayer.h5 0.9110741537859519\n",
      "modelfewlayer.h5 0.9151829387595383\n",
      "modelfew2layer.h5 0.9631187634513794\n"
     ]
    }
   ],
   "source": [
    "def validate(X,Y):\n",
    "    for model_img in ['modellastlayer.h5','modelfewlayer.h5','modelfew2layer.h5']:\n",
    "        model = load_model(model_img)\n",
    "        pred = model.predict(X)\n",
    "        top3 = np.argsort(pred)[:,-3:]\n",
    "        actual = np.argmax(Y,axis=1)\n",
    "        res = top3 - actual.reshape(-1,1)\n",
    "        ana = np.product(res,axis=1)\n",
    "        print (model_img, np.sum(ana == 0)/ana.shape[0])"
   ]
  },
  {
   "cell_type": "markdown",
   "metadata": {},
   "source": [
    "### Validating models with new data - 5 files for each type"
   ]
  },
  {
   "cell_type": "code",
   "execution_count": 61,
   "metadata": {},
   "outputs": [],
   "source": [
    "test_labels = pd.read_csv('test_labels.csv',index_col='Unnamed: 0')"
   ]
  },
  {
   "cell_type": "code",
   "execution_count": 62,
   "metadata": {},
   "outputs": [],
   "source": [
    "test_labels.rename(columns={'files':'id'},inplace=True)"
   ]
  },
  {
   "cell_type": "code",
   "execution_count": 64,
   "metadata": {},
   "outputs": [
    {
     "data": {
      "text/html": [
       "<div>\n",
       "<style scoped>\n",
       "    .dataframe tbody tr th:only-of-type {\n",
       "        vertical-align: middle;\n",
       "    }\n",
       "\n",
       "    .dataframe tbody tr th {\n",
       "        vertical-align: top;\n",
       "    }\n",
       "\n",
       "    .dataframe thead th {\n",
       "        text-align: right;\n",
       "    }\n",
       "</style>\n",
       "<table border=\"1\" class=\"dataframe\">\n",
       "  <thead>\n",
       "    <tr style=\"text-align: right;\">\n",
       "      <th></th>\n",
       "      <th>breed</th>\n",
       "      <th>id</th>\n",
       "    </tr>\n",
       "  </thead>\n",
       "  <tbody>\n",
       "    <tr>\n",
       "      <th>0</th>\n",
       "      <td>chihuahua</td>\n",
       "      <td>n02085620_10074</td>\n",
       "    </tr>\n",
       "    <tr>\n",
       "      <th>1</th>\n",
       "      <td>chihuahua</td>\n",
       "      <td>n02085620_10131</td>\n",
       "    </tr>\n",
       "    <tr>\n",
       "      <th>2</th>\n",
       "      <td>chihuahua</td>\n",
       "      <td>n02085620_10621</td>\n",
       "    </tr>\n",
       "    <tr>\n",
       "      <th>3</th>\n",
       "      <td>chihuahua</td>\n",
       "      <td>n02085620_1073</td>\n",
       "    </tr>\n",
       "    <tr>\n",
       "      <th>4</th>\n",
       "      <td>chihuahua</td>\n",
       "      <td>n02085620_10976</td>\n",
       "    </tr>\n",
       "  </tbody>\n",
       "</table>\n",
       "</div>"
      ],
      "text/plain": [
       "       breed               id\n",
       "0  chihuahua  n02085620_10074\n",
       "1  chihuahua  n02085620_10131\n",
       "2  chihuahua  n02085620_10621\n",
       "3  chihuahua   n02085620_1073\n",
       "4  chihuahua  n02085620_10976"
      ]
     },
     "execution_count": 64,
     "metadata": {},
     "output_type": "execute_result"
    }
   ],
   "source": [
    "test_labels.head()"
   ]
  },
  {
   "cell_type": "code",
   "execution_count": 65,
   "metadata": {},
   "outputs": [],
   "source": [
    "breed = le.transform(test_labels.breed)\n",
    "Y = np_utils.to_categorical(breed,num_classes=num_classes)"
   ]
  },
  {
   "cell_type": "code",
   "execution_count": 67,
   "metadata": {},
   "outputs": [],
   "source": [
    "base_dir = '.'\n",
    "data_dir = os.path.join(base_dir,'Test-Dog-Breed/')\n",
    "files = os.listdir(data_dir)"
   ]
  },
  {
   "cell_type": "code",
   "execution_count": null,
   "metadata": {},
   "outputs": [],
   "source": []
  },
  {
   "cell_type": "code",
   "execution_count": 69,
   "metadata": {},
   "outputs": [],
   "source": [
    "input_dim = (224, 224)\n",
    "\n",
    "X = np.zeros((Y.shape[0],*input_dim,3))\n",
    "\n",
    "for i,img in enumerate(files):\n",
    "    image = load_img(os.path.join(data_dir,img),target_size=input_dim)\n",
    "    image = img_to_array(image)\n",
    "    image = image.reshape((1, *image.shape))\n",
    "    image = preprocess_input(image)\n",
    "    X[i] = image"
   ]
  },
  {
   "cell_type": "code",
   "execution_count": 85,
   "metadata": {},
   "outputs": [
    {
     "data": {
      "text/plain": [
       "array([[[ -74.93900299,  -83.77899933,  -89.68000031],\n",
       "        [ -95.93900299,  -98.77899933, -105.68000031],\n",
       "        [ -89.93900299,  -86.77899933,  -94.68000031],\n",
       "        ...,\n",
       "        [ -35.93900299,  -50.77899933,  -57.68000031],\n",
       "        [ -36.93900299,  -45.77899933,  -57.68000031],\n",
       "        [ -67.93900299,  -76.77899933,  -88.68000031]],\n",
       "\n",
       "       [[ -87.93900299, -100.77899933, -107.68000031],\n",
       "        [ -88.93900299,  -96.77899933, -104.68000031],\n",
       "        [  -8.93900299,   -8.77899933,  -17.68000031],\n",
       "        ...,\n",
       "        [ -35.93900299,  -48.77899933,  -55.68000031],\n",
       "        [ -30.93900299,  -40.77899933,  -49.68000031],\n",
       "        [ -59.93900299,  -69.77899933,  -78.68000031]],\n",
       "\n",
       "       [[ -48.93900299,  -70.77899933,  -80.68000031],\n",
       "        [ -31.93900299,  -47.77899933,  -58.68000031],\n",
       "        [ -51.93900299,  -60.77899933,  -72.68000031],\n",
       "        ...,\n",
       "        [ -65.93900299,  -73.77899933,  -81.68000031],\n",
       "        [  -1.93900299,  -12.77899933,  -19.68000031],\n",
       "        [ -83.93900299,  -94.77899933, -101.68000031]],\n",
       "\n",
       "       ...,\n",
       "\n",
       "       [[ -78.93900299,  -83.77899933,  -77.68000031],\n",
       "        [ -79.93900299,  -84.77899933,  -78.68000031],\n",
       "        [ -65.93900299,  -74.77899933,  -70.68000031],\n",
       "        ...,\n",
       "        [ -53.93900299,  -72.77899933,  -74.68000031],\n",
       "        [ -66.93900299,  -87.77899933,  -87.68000031],\n",
       "        [ -62.93900299,  -83.77899933,  -83.68000031]],\n",
       "\n",
       "       [[ -87.93900299,  -92.77899933,  -86.68000031],\n",
       "        [ -87.93900299,  -92.77899933,  -86.68000031],\n",
       "        [ -81.93900299,  -90.77899933,  -86.68000031],\n",
       "        ...,\n",
       "        [ -55.93900299,  -74.77899933,  -76.68000031],\n",
       "        [ -41.93900299,  -62.77899933,  -62.68000031],\n",
       "        [ -57.93900299,  -78.77899933,  -78.68000031]],\n",
       "\n",
       "       [[ -77.93900299,  -82.77899933,  -76.68000031],\n",
       "        [ -93.93900299,  -98.77899933,  -92.68000031],\n",
       "        [ -72.93900299,  -81.77899933,  -77.68000031],\n",
       "        ...,\n",
       "        [ -65.93900299,  -84.77899933,  -86.68000031],\n",
       "        [ -61.93900299,  -82.77899933,  -82.68000031],\n",
       "        [ -38.93900299,  -59.77899933,  -59.68000031]]])"
      ]
     },
     "execution_count": 85,
     "metadata": {},
     "output_type": "execute_result"
    }
   ],
   "source": [
    "X[0]"
   ]
  },
  {
   "cell_type": "code",
   "execution_count": 86,
   "metadata": {},
   "outputs": [],
   "source": [
    "def validate(X,Y):\n",
    "    for model_img in ['modellastlayer.h5','modelfewlayer.h5','modelfew2layer.h5']:\n",
    "        model = load_model(model_img)\n",
    "        pred = model.predict(X)\n",
    "        top3 = np.argsort(pred)[:,-3:]\n",
    "        actual = np.argmax(Y,axis=1)\n",
    "        res = top3 - actual.reshape(-1,1)\n",
    "        ana = np.product(res,axis=1)\n",
    "        print (model_img, np.sum(ana == 0)/ana.shape[0])"
   ]
  },
  {
   "cell_type": "code",
   "execution_count": 87,
   "metadata": {},
   "outputs": [
    {
     "name": "stdout",
     "output_type": "stream",
     "text": [
      "modellastlayer.h5 0.9110741537859519\n",
      "modelfewlayer.h5 0.9151829387595383\n",
      "modelfew2layer.h5 0.9631187634513794\n"
     ]
    }
   ],
   "source": [
    "validate(X,Y)"
   ]
  },
  {
   "cell_type": "code",
   "execution_count": 137,
   "metadata": {},
   "outputs": [],
   "source": [
    "model = load_model('modelfewlayer.h5')"
   ]
  },
  {
   "cell_type": "code",
   "execution_count": 153,
   "metadata": {},
   "outputs": [],
   "source": [
    "image = load_img('Test-Dog-Breed/n02085620_1',target_size=input_dim)\n",
    "image = img_to_array(image)\n",
    "image = image.reshape((1, *image.shape))\n",
    "image = preprocess_input(image)"
   ]
  },
  {
   "cell_type": "code",
   "execution_count": 149,
   "metadata": {},
   "outputs": [
    {
     "data": {
      "text/plain": [
       "(1, 224, 224, 3)"
      ]
     },
     "execution_count": 149,
     "metadata": {},
     "output_type": "execute_result"
    }
   ],
   "source": [
    "image.shape"
   ]
  },
  {
   "cell_type": "code",
   "execution_count": 154,
   "metadata": {},
   "outputs": [],
   "source": [
    "res = model.predict(image)"
   ]
  },
  {
   "cell_type": "code",
   "execution_count": 156,
   "metadata": {},
   "outputs": [
    {
     "data": {
      "text/plain": [
       "array([101,  43,  86, 111,  29])"
      ]
     },
     "execution_count": 156,
     "metadata": {},
     "output_type": "execute_result"
    }
   ],
   "source": [
    "s = np.argsort(res)[0][-5:]\n",
    "s"
   ]
  },
  {
   "cell_type": "code",
   "execution_count": 157,
   "metadata": {},
   "outputs": [
    {
     "name": "stderr",
     "output_type": "stream",
     "text": [
      "/home/ubuntu/anaconda3/envs/tensorflow_p36/lib/python3.6/site-packages/sklearn/preprocessing/label.py:151: DeprecationWarning: The truth value of an empty array is ambiguous. Returning False, but in future this will result in an error. Use `array.size > 0` to check that an array is not empty.\n",
      "  if diff:\n"
     ]
    },
    {
     "data": {
      "text/plain": [
       "array(['siberian_husky', 'eskimo_dog', 'pembroke', 'toy_terrier',\n",
       "       'chihuahua'], dtype=object)"
      ]
     },
     "execution_count": 157,
     "metadata": {},
     "output_type": "execute_result"
    }
   ],
   "source": [
    "le.inverse_transform(s)"
   ]
  },
  {
   "cell_type": "markdown",
   "metadata": {},
   "source": [
    "### Image Augmentation"
   ]
  },
  {
   "cell_type": "code",
   "execution_count": 13,
   "metadata": {},
   "outputs": [],
   "source": [
    "from keras.preprocessing.image import ImageDataGenerator\n",
    "from keras.models import load_model"
   ]
  },
  {
   "cell_type": "code",
   "execution_count": 14,
   "metadata": {},
   "outputs": [],
   "source": [
    "datagen = ImageDataGenerator(\n",
    "    featurewise_center=True,\n",
    "    featurewise_std_normalization=True,\n",
    "    rotation_range=20,\n",
    "    width_shift_range=0.2,\n",
    "    height_shift_range=0.2,\n",
    "    horizontal_flip=True)"
   ]
  },
  {
   "cell_type": "code",
   "execution_count": 15,
   "metadata": {},
   "outputs": [],
   "source": [
    "datagen.fit(X)"
   ]
  },
  {
   "cell_type": "code",
   "execution_count": 20,
   "metadata": {},
   "outputs": [],
   "source": [
    "model = load_model('modelfewlayer.h5')"
   ]
  },
  {
   "cell_type": "code",
   "execution_count": 22,
   "metadata": {},
   "outputs": [
    {
     "name": "stdout",
     "output_type": "stream",
     "text": [
      "Epoch 1/20\n",
      " - 1032s - loss: 2.5376 - acc: 0.5324\n",
      "Epoch 2/20\n",
      " - 1030s - loss: 2.3382 - acc: 0.5551\n",
      "Epoch 3/20\n",
      " - 1030s - loss: 2.1625 - acc: 0.5772\n",
      "Epoch 4/20\n",
      " - 1031s - loss: 2.0090 - acc: 0.5945\n",
      "Epoch 5/20\n",
      " - 1031s - loss: 1.8824 - acc: 0.6081\n",
      "Epoch 6/20\n",
      " - 1031s - loss: 1.7673 - acc: 0.6236\n",
      "Epoch 7/20\n",
      " - 1032s - loss: 1.6673 - acc: 0.6340\n",
      "Epoch 8/20\n",
      " - 1032s - loss: 1.5892 - acc: 0.6389\n",
      "Epoch 9/20\n",
      " - 1031s - loss: 1.5121 - acc: 0.6486\n",
      "Epoch 10/20\n",
      " - 1030s - loss: 1.4401 - acc: 0.6579\n",
      "Epoch 11/20\n",
      " - 1029s - loss: 1.3802 - acc: 0.6671\n",
      "Epoch 12/20\n",
      " - 1030s - loss: 1.3270 - acc: 0.6743\n",
      "Epoch 13/20\n",
      " - 1030s - loss: 1.2780 - acc: 0.6827\n",
      "Epoch 14/20\n",
      " - 1030s - loss: 1.2368 - acc: 0.6871\n",
      "Epoch 15/20\n",
      " - 1029s - loss: 1.1985 - acc: 0.6917\n",
      "Epoch 16/20\n",
      " - 1029s - loss: 1.1656 - acc: 0.6978\n",
      "Epoch 17/20\n",
      " - 1030s - loss: 1.1331 - acc: 0.7004\n",
      "Epoch 18/20\n",
      " - 1030s - loss: 1.1070 - acc: 0.7042\n",
      "Epoch 19/20\n",
      " - 1029s - loss: 1.0823 - acc: 0.7088\n",
      "Epoch 20/20\n",
      " - 1030s - loss: 1.0595 - acc: 0.7121\n"
     ]
    }
   ],
   "source": [
    "history_aug_images = model.fit_generator(datagen.flow(X, Y, batch_size=256), steps_per_epoch=len(X) / 32, epochs=20, verbose=2)"
   ]
  },
  {
   "cell_type": "code",
   "execution_count": 23,
   "metadata": {},
   "outputs": [
    {
     "data": {
      "text/plain": [
       "dict_keys(['loss', 'acc'])"
      ]
     },
     "execution_count": 23,
     "metadata": {},
     "output_type": "execute_result"
    }
   ],
   "source": [
    "history_aug_images.history.keys()"
   ]
  },
  {
   "cell_type": "code",
   "execution_count": 24,
   "metadata": {},
   "outputs": [],
   "source": [
    "model.save('img_aug.h5')"
   ]
  },
  {
   "cell_type": "code",
   "execution_count": 37,
   "metadata": {},
   "outputs": [],
   "source": [
    "model = load_model('img_aug.h5')\n",
    "image = load_img('gullu.jpg',target_size=input_dim)\n",
    "image = img_to_array(image)\n",
    "image = image.reshape((1, *image.shape))\n",
    "image = preprocess_input(image)"
   ]
  },
  {
   "cell_type": "code",
   "execution_count": 38,
   "metadata": {},
   "outputs": [],
   "source": [
    "res = model.predict(image)"
   ]
  },
  {
   "cell_type": "code",
   "execution_count": 39,
   "metadata": {},
   "outputs": [
    {
     "data": {
      "text/plain": [
       "array([90, 32, 86, 67, 49])"
      ]
     },
     "execution_count": 39,
     "metadata": {},
     "output_type": "execute_result"
    }
   ],
   "source": [
    "s = np.argsort(res)[0][-5:]\n",
    "s"
   ]
  },
  {
   "cell_type": "code",
   "execution_count": 40,
   "metadata": {},
   "outputs": [
    {
     "name": "stderr",
     "output_type": "stream",
     "text": [
      "/home/ubuntu/anaconda3/envs/tensorflow_p36/lib/python3.6/site-packages/sklearn/preprocessing/label.py:151: DeprecationWarning: The truth value of an empty array is ambiguous. Returning False, but in future this will result in an error. Use `array.size > 0` to check that an array is not empty.\n",
      "  if diff:\n"
     ]
    },
    {
     "data": {
      "text/plain": [
       "array(['rhodesian_ridgeback', 'cocker_spaniel', 'pembroke',\n",
       "       'labrador_retriever', 'golden_retriever'], dtype=object)"
      ]
     },
     "execution_count": 40,
     "metadata": {},
     "output_type": "execute_result"
    }
   ],
   "source": [
    "le.inverse_transform(s)"
   ]
  },
  {
   "cell_type": "code",
   "execution_count": 17,
   "metadata": {},
   "outputs": [],
   "source": [
    "from sklearn.model_selection import train_test_split"
   ]
  },
  {
   "cell_type": "code",
   "execution_count": 18,
   "metadata": {},
   "outputs": [],
   "source": [
    "trainX,testX,trainY,testY = train_test_split(X,Y)"
   ]
  },
  {
   "cell_type": "code",
   "execution_count": 17,
   "metadata": {},
   "outputs": [
    {
     "data": {
      "text/plain": [
       "(7666, 120)"
      ]
     },
     "execution_count": 17,
     "metadata": {},
     "output_type": "execute_result"
    }
   ],
   "source": [
    "trainY.shape"
   ]
  },
  {
   "cell_type": "code",
   "execution_count": 18,
   "metadata": {},
   "outputs": [
    {
     "name": "stdout",
     "output_type": "stream",
     "text": [
      "_________________________________________________________________\n",
      "Layer (type)                 Output Shape              Param #   \n",
      "=================================================================\n",
      "input_1 (InputLayer)         (None, None, None, 3)     0         \n",
      "_________________________________________________________________\n",
      "block1_conv1 (Conv2D)        (None, None, None, 64)    1792      \n",
      "_________________________________________________________________\n",
      "block1_conv2 (Conv2D)        (None, None, None, 64)    36928     \n",
      "_________________________________________________________________\n",
      "block1_pool (MaxPooling2D)   (None, None, None, 64)    0         \n",
      "_________________________________________________________________\n",
      "block2_conv1 (Conv2D)        (None, None, None, 128)   73856     \n",
      "_________________________________________________________________\n",
      "block2_conv2 (Conv2D)        (None, None, None, 128)   147584    \n",
      "_________________________________________________________________\n",
      "block2_pool (MaxPooling2D)   (None, None, None, 128)   0         \n",
      "_________________________________________________________________\n",
      "block3_conv1 (Conv2D)        (None, None, None, 256)   295168    \n",
      "_________________________________________________________________\n",
      "block3_conv2 (Conv2D)        (None, None, None, 256)   590080    \n",
      "_________________________________________________________________\n",
      "block3_conv3 (Conv2D)        (None, None, None, 256)   590080    \n",
      "_________________________________________________________________\n",
      "block3_conv4 (Conv2D)        (None, None, None, 256)   590080    \n",
      "_________________________________________________________________\n",
      "block3_pool (MaxPooling2D)   (None, None, None, 256)   0         \n",
      "_________________________________________________________________\n",
      "block4_conv1 (Conv2D)        (None, None, None, 512)   1180160   \n",
      "_________________________________________________________________\n",
      "block4_conv2 (Conv2D)        (None, None, None, 512)   2359808   \n",
      "_________________________________________________________________\n",
      "block4_conv3 (Conv2D)        (None, None, None, 512)   2359808   \n",
      "_________________________________________________________________\n",
      "block4_conv4 (Conv2D)        (None, None, None, 512)   2359808   \n",
      "_________________________________________________________________\n",
      "block4_pool (MaxPooling2D)   (None, None, None, 512)   0         \n",
      "_________________________________________________________________\n",
      "block5_conv1 (Conv2D)        (None, None, None, 512)   2359808   \n",
      "_________________________________________________________________\n",
      "block5_conv2 (Conv2D)        (None, None, None, 512)   2359808   \n",
      "_________________________________________________________________\n",
      "block5_conv3 (Conv2D)        (None, None, None, 512)   2359808   \n",
      "_________________________________________________________________\n",
      "block5_conv4 (Conv2D)        (None, None, None, 512)   2359808   \n",
      "_________________________________________________________________\n",
      "block5_pool (MaxPooling2D)   (None, None, None, 512)   0         \n",
      "_________________________________________________________________\n",
      "global_average_pooling2d_1 ( (None, 512)               0         \n",
      "_________________________________________________________________\n",
      "dropout_1 (Dropout)          (None, 512)               0         \n",
      "_________________________________________________________________\n",
      "dense_1 (Dense)              (None, 120)               61560     \n",
      "=================================================================\n",
      "Total params: 20,085,944\n",
      "Trainable params: 61,560\n",
      "Non-trainable params: 20,024,384\n",
      "_________________________________________________________________\n"
     ]
    }
   ],
   "source": [
    "from keras.applications.vgg19 import VGG19\n",
    "from keras.models import Model\n",
    "from keras.layers import Dense,GlobalAveragePooling2D, Flatten,Dropout\n",
    "\n",
    "vgg_model = VGG19(weights='imagenet', include_top=False)\n",
    "\n",
    "x = vgg_model.output\n",
    "x = GlobalAveragePooling2D()(x)\n",
    "x = Dropout(0.3)(x)\n",
    "out = Dense(120, activation='softmax')(x)\n",
    "\n",
    "model_few1_layers = Model(inputs=vgg_model.input, outputs=out)\n",
    "\n",
    "for layer in vgg_model.layers[:-1]:\n",
    "    layer.trainable = False\n",
    "\n",
    "for layer in vgg_model.layers[-1:]:\n",
    "    layer.trainable = True\n",
    "\n",
    "from keras.optimizers import Adam\n",
    "opt = Adam()\n",
    "\n",
    "model_few1_layers.compile(optimizer=opt, loss='categorical_crossentropy', metrics=['accuracy'])\n",
    "model_few1_layers.summary()"
   ]
  },
  {
   "cell_type": "code",
   "execution_count": 23,
   "metadata": {},
   "outputs": [],
   "source": [
    "datagen.fit(trainX)"
   ]
  },
  {
   "cell_type": "code",
   "execution_count": 26,
   "metadata": {},
   "outputs": [
    {
     "name": "stdout",
     "output_type": "stream",
     "text": [
      "Epoch 1/20\n",
      "320/319 [==============================] - 1103s 3s/step - loss: 3.5373 - acc: 0.2931 - val_loss: 5.2916 - val_acc: 0.5372\n",
      "Epoch 2/20\n",
      "320/319 [==============================] - 1061s 3s/step - loss: 2.2431 - acc: 0.5517 - val_loss: 4.8868 - val_acc: 0.6013\n",
      "Epoch 3/20\n",
      "320/319 [==============================] - 1061s 3s/step - loss: 1.7948 - acc: 0.6163 - val_loss: 4.8068 - val_acc: 0.6201\n",
      "Epoch 4/20\n",
      "320/319 [==============================] - 1061s 3s/step - loss: 1.5636 - acc: 0.6480 - val_loss: 4.7402 - val_acc: 0.6362\n",
      "Epoch 5/20\n",
      "320/319 [==============================] - 1061s 3s/step - loss: 1.4154 - acc: 0.6685 - val_loss: 4.7023 - val_acc: 0.6408\n",
      "Epoch 6/20\n",
      "320/319 [==============================] - 1061s 3s/step - loss: 1.3175 - acc: 0.6832 - val_loss: 4.7534 - val_acc: 0.6451\n",
      "Epoch 7/20\n",
      "320/319 [==============================] - 1061s 3s/step - loss: 1.2352 - acc: 0.6972 - val_loss: 4.7830 - val_acc: 0.6459\n",
      "Epoch 8/20\n",
      "320/319 [==============================] - 1061s 3s/step - loss: 1.1768 - acc: 0.7058 - val_loss: 4.7442 - val_acc: 0.6459\n",
      "Epoch 9/20\n",
      "320/319 [==============================] - 1061s 3s/step - loss: 1.1294 - acc: 0.7127 - val_loss: 4.7322 - val_acc: 0.6495\n",
      "Epoch 10/20\n",
      "320/319 [==============================] - 1061s 3s/step - loss: 1.0872 - acc: 0.7184 - val_loss: 4.7842 - val_acc: 0.6498\n",
      "Epoch 11/20\n",
      "320/319 [==============================] - 1061s 3s/step - loss: 1.0511 - acc: 0.7247 - val_loss: 4.8361 - val_acc: 0.6436\n",
      "Epoch 12/20\n",
      "320/319 [==============================] - 1061s 3s/step - loss: 1.0207 - acc: 0.7308 - val_loss: 4.8602 - val_acc: 0.6436\n",
      "Epoch 13/20\n",
      "320/319 [==============================] - 1061s 3s/step - loss: 0.9970 - acc: 0.7350 - val_loss: 4.9299 - val_acc: 0.6463\n",
      "Epoch 14/20\n",
      "320/319 [==============================] - 1061s 3s/step - loss: 0.9728 - acc: 0.7383 - val_loss: 4.9172 - val_acc: 0.6475\n",
      "Epoch 15/20\n",
      "320/319 [==============================] - 1062s 3s/step - loss: 0.9519 - acc: 0.7416 - val_loss: 4.9009 - val_acc: 0.6510\n",
      "Epoch 16/20\n",
      "320/319 [==============================] - 1063s 3s/step - loss: 0.9385 - acc: 0.7421 - val_loss: 4.9062 - val_acc: 0.6463\n",
      "Epoch 17/20\n",
      "320/319 [==============================] - 1063s 3s/step - loss: 0.9213 - acc: 0.7465 - val_loss: 4.9483 - val_acc: 0.6451\n",
      "Epoch 18/20\n",
      "320/319 [==============================] - 1063s 3s/step - loss: 0.9063 - acc: 0.7489 - val_loss: 4.9802 - val_acc: 0.6436\n",
      "Epoch 19/20\n",
      "320/319 [==============================] - 1073s 3s/step - loss: 0.8987 - acc: 0.7481 - val_loss: 5.0181 - val_acc: 0.6479\n",
      "Epoch 20/20\n",
      "320/319 [==============================] - 1064s 3s/step - loss: 0.8847 - acc: 0.7504 - val_loss: 4.9735 - val_acc: 0.6463\n"
     ]
    }
   ],
   "source": [
    "history_aug_images = model_few1_layers.fit_generator(datagen.flow(trainX, trainY, batch_size=256), steps_per_epoch=len(X) / 32, epochs=20, verbose=1, validation_data=(testX,testY))"
   ]
  },
  {
   "cell_type": "code",
   "execution_count": 27,
   "metadata": {},
   "outputs": [],
   "source": [
    "model_few1_layers.save('model_aug1_layer.h5')"
   ]
  },
  {
   "cell_type": "code",
   "execution_count": 16,
   "metadata": {},
   "outputs": [
    {
     "name": "stdout",
     "output_type": "stream",
     "text": [
      "_________________________________________________________________\n",
      "Layer (type)                 Output Shape              Param #   \n",
      "=================================================================\n",
      "input_1 (InputLayer)         (None, None, None, 3)     0         \n",
      "_________________________________________________________________\n",
      "block1_conv1 (Conv2D)        (None, None, None, 64)    1792      \n",
      "_________________________________________________________________\n",
      "block1_conv2 (Conv2D)        (None, None, None, 64)    36928     \n",
      "_________________________________________________________________\n",
      "block1_pool (MaxPooling2D)   (None, None, None, 64)    0         \n",
      "_________________________________________________________________\n",
      "block2_conv1 (Conv2D)        (None, None, None, 128)   73856     \n",
      "_________________________________________________________________\n",
      "block2_conv2 (Conv2D)        (None, None, None, 128)   147584    \n",
      "_________________________________________________________________\n",
      "block2_pool (MaxPooling2D)   (None, None, None, 128)   0         \n",
      "_________________________________________________________________\n",
      "block3_conv1 (Conv2D)        (None, None, None, 256)   295168    \n",
      "_________________________________________________________________\n",
      "block3_conv2 (Conv2D)        (None, None, None, 256)   590080    \n",
      "_________________________________________________________________\n",
      "block3_conv3 (Conv2D)        (None, None, None, 256)   590080    \n",
      "_________________________________________________________________\n",
      "block3_conv4 (Conv2D)        (None, None, None, 256)   590080    \n",
      "_________________________________________________________________\n",
      "block3_pool (MaxPooling2D)   (None, None, None, 256)   0         \n",
      "_________________________________________________________________\n",
      "block4_conv1 (Conv2D)        (None, None, None, 512)   1180160   \n",
      "_________________________________________________________________\n",
      "block4_conv2 (Conv2D)        (None, None, None, 512)   2359808   \n",
      "_________________________________________________________________\n",
      "block4_conv3 (Conv2D)        (None, None, None, 512)   2359808   \n",
      "_________________________________________________________________\n",
      "block4_conv4 (Conv2D)        (None, None, None, 512)   2359808   \n",
      "_________________________________________________________________\n",
      "block4_pool (MaxPooling2D)   (None, None, None, 512)   0         \n",
      "_________________________________________________________________\n",
      "block5_conv1 (Conv2D)        (None, None, None, 512)   2359808   \n",
      "_________________________________________________________________\n",
      "block5_conv2 (Conv2D)        (None, None, None, 512)   2359808   \n",
      "_________________________________________________________________\n",
      "block5_conv3 (Conv2D)        (None, None, None, 512)   2359808   \n",
      "_________________________________________________________________\n",
      "block5_conv4 (Conv2D)        (None, None, None, 512)   2359808   \n",
      "_________________________________________________________________\n",
      "block5_pool (MaxPooling2D)   (None, None, None, 512)   0         \n",
      "_________________________________________________________________\n",
      "global_average_pooling2d_1 ( (None, 512)               0         \n",
      "_________________________________________________________________\n",
      "dropout_1 (Dropout)          (None, 512)               0         \n",
      "_________________________________________________________________\n",
      "dense_1 (Dense)              (None, 120)               61560     \n",
      "=================================================================\n",
      "Total params: 20,085,944\n",
      "Trainable params: 2,421,368\n",
      "Non-trainable params: 17,664,576\n",
      "_________________________________________________________________\n"
     ]
    }
   ],
   "source": [
    "from keras.applications.vgg19 import VGG19\n",
    "from keras.models import Model\n",
    "from keras.layers import Dense,GlobalAveragePooling2D, Flatten,Dropout\n",
    "\n",
    "vgg_model = VGG19(weights='imagenet', include_top=False)\n",
    "\n",
    "x = vgg_model.output\n",
    "x = GlobalAveragePooling2D()(x)\n",
    "x = Dropout(0.3)(x)\n",
    "out = Dense(120, activation='softmax')(x)\n",
    "\n",
    "model_few2_layers = Model(inputs=vgg_model.input, outputs=out)\n",
    "\n",
    "for layer in vgg_model.layers[:-2]:\n",
    "    layer.trainable = False\n",
    "\n",
    "for layer in vgg_model.layers[-2:]:\n",
    "    layer.trainable = True\n",
    "\n",
    "from keras.optimizers import Adam\n",
    "opt = Adam()\n",
    "\n",
    "model_few2_layers.compile(optimizer=opt, loss='categorical_crossentropy', metrics=['accuracy'])\n",
    "model_few2_layers.summary()"
   ]
  },
  {
   "cell_type": "code",
   "execution_count": 19,
   "metadata": {},
   "outputs": [
    {
     "name": "stdout",
     "output_type": "stream",
     "text": [
      "Epoch 1/10\n",
      "320/319 [==============================] - 1123s 4s/step - loss: 1.7026 - acc: 0.5560 - val_loss: 5.2118 - val_acc: 0.6295\n",
      "Epoch 2/10\n",
      "320/319 [==============================] - 1079s 3s/step - loss: 0.6987 - acc: 0.7964 - val_loss: 5.2839 - val_acc: 0.6408\n",
      "Epoch 3/10\n",
      "320/319 [==============================] - 1079s 3s/step - loss: 0.4129 - acc: 0.8807 - val_loss: 5.3397 - val_acc: 0.6444\n",
      "Epoch 4/10\n",
      "320/319 [==============================] - 1079s 3s/step - loss: 0.2789 - acc: 0.9209 - val_loss: 5.4454 - val_acc: 0.6362\n",
      "Epoch 5/10\n",
      "320/319 [==============================] - 1079s 3s/step - loss: 0.1981 - acc: 0.9458 - val_loss: 5.5338 - val_acc: 0.6365\n",
      "Epoch 6/10\n",
      "320/319 [==============================] - 1088s 3s/step - loss: 0.1516 - acc: 0.9590 - val_loss: 5.5260 - val_acc: 0.6381\n",
      "Epoch 7/10\n",
      "320/319 [==============================] - 1079s 3s/step - loss: 0.1230 - acc: 0.9678 - val_loss: 5.3346 - val_acc: 0.6467\n",
      "Epoch 8/10\n",
      "320/319 [==============================] - 1079s 3s/step - loss: 0.1035 - acc: 0.9725 - val_loss: 5.5765 - val_acc: 0.6342\n",
      "Epoch 9/10\n",
      "320/319 [==============================] - 1078s 3s/step - loss: 0.0887 - acc: 0.9762 - val_loss: 5.5413 - val_acc: 0.6365\n",
      "Epoch 10/10\n",
      "320/319 [==============================] - 1078s 3s/step - loss: 0.0780 - acc: 0.9795 - val_loss: 5.5163 - val_acc: 0.6420\n"
     ]
    }
   ],
   "source": [
    "history_aug2_images = model_few2_layers.fit_generator(datagen.flow(trainX, trainY, batch_size=256), steps_per_epoch=len(X) / 32, epochs=10, verbose=1, validation_data=(testX,testY))\n",
    "model_few2_layers.save('model_aug2_layer.h5')"
   ]
  },
  {
   "cell_type": "code",
   "execution_count": 20,
   "metadata": {},
   "outputs": [],
   "source": [
    "model_few2_layers.save('model_aug2_layer.h5')"
   ]
  },
  {
   "cell_type": "code",
   "execution_count": 41,
   "metadata": {},
   "outputs": [],
   "source": [
    "image = load_img('gullu.jpg',target_size=input_dim)\n",
    "image = img_to_array(image)\n",
    "image = image.reshape((1, *image.shape))\n",
    "image = preprocess_input(image)"
   ]
  },
  {
   "cell_type": "code",
   "execution_count": 42,
   "metadata": {},
   "outputs": [],
   "source": [
    "res = model_few2_layers.predict(image)"
   ]
  },
  {
   "cell_type": "code",
   "execution_count": 43,
   "metadata": {},
   "outputs": [
    {
     "data": {
      "text/plain": [
       "array([119, 112,  90,  49,  67])"
      ]
     },
     "execution_count": 43,
     "metadata": {},
     "output_type": "execute_result"
    }
   ],
   "source": [
    "s = np.argsort(res)[0][-5:]\n",
    "s"
   ]
  },
  {
   "cell_type": "code",
   "execution_count": 44,
   "metadata": {},
   "outputs": [
    {
     "name": "stderr",
     "output_type": "stream",
     "text": [
      "/home/ubuntu/anaconda3/envs/tensorflow_p36/lib/python3.6/site-packages/sklearn/preprocessing/label.py:151: DeprecationWarning: The truth value of an empty array is ambiguous. Returning False, but in future this will result in an error. Use `array.size > 0` to check that an array is not empty.\n",
      "  if diff:\n"
     ]
    },
    {
     "data": {
      "text/plain": [
       "array(['yorkshire_terrier', 'vizsla', 'rhodesian_ridgeback',\n",
       "       'golden_retriever', 'labrador_retriever'], dtype=object)"
      ]
     },
     "execution_count": 44,
     "metadata": {},
     "output_type": "execute_result"
    }
   ],
   "source": [
    "le.inverse_transform(s)"
   ]
  },
  {
   "cell_type": "markdown",
   "metadata": {},
   "source": [
    "### Last layer Trained"
   ]
  },
  {
   "cell_type": "code",
   "execution_count": 27,
   "metadata": {},
   "outputs": [],
   "source": [
    "last_layer_model = load_model('modellastlayer.h5')"
   ]
  },
  {
   "cell_type": "code",
   "execution_count": 28,
   "metadata": {},
   "outputs": [],
   "source": [
    "res = last_layer_model.predict(image)"
   ]
  },
  {
   "cell_type": "code",
   "execution_count": 29,
   "metadata": {},
   "outputs": [
    {
     "data": {
      "text/plain": [
       "array([28, 85, 79, 32, 49])"
      ]
     },
     "execution_count": 29,
     "metadata": {},
     "output_type": "execute_result"
    }
   ],
   "source": [
    "s = np.argsort(res)[0][-5:]\n",
    "s"
   ]
  },
  {
   "cell_type": "code",
   "execution_count": 30,
   "metadata": {},
   "outputs": [
    {
     "name": "stderr",
     "output_type": "stream",
     "text": [
      "/home/ubuntu/anaconda3/envs/tensorflow_p36/lib/python3.6/site-packages/sklearn/preprocessing/label.py:151: DeprecationWarning: The truth value of an empty array is ambiguous. Returning False, but in future this will result in an error. Use `array.size > 0` to check that an array is not empty.\n",
      "  if diff:\n"
     ]
    },
    {
     "data": {
      "text/plain": [
       "array(['chesapeake_bay_retriever', 'pekinese', 'norfolk_terrier',\n",
       "       'cocker_spaniel', 'golden_retriever'], dtype=object)"
      ]
     },
     "execution_count": 30,
     "metadata": {},
     "output_type": "execute_result"
    }
   ],
   "source": [
    "le.inverse_transform(s)"
   ]
  },
  {
   "cell_type": "code",
   "execution_count": 31,
   "metadata": {},
   "outputs": [],
   "source": [
    "last_2_layer_model = load_model('modelfew2layer.h5')"
   ]
  },
  {
   "cell_type": "code",
   "execution_count": 32,
   "metadata": {},
   "outputs": [],
   "source": [
    "res = last_layer_model.predict(image)"
   ]
  },
  {
   "cell_type": "code",
   "execution_count": 33,
   "metadata": {},
   "outputs": [
    {
     "data": {
      "text/plain": [
       "array([28, 85, 79, 32, 49])"
      ]
     },
     "execution_count": 33,
     "metadata": {},
     "output_type": "execute_result"
    }
   ],
   "source": [
    "s = np.argsort(res)[0][-5:]\n",
    "s"
   ]
  },
  {
   "cell_type": "code",
   "execution_count": 34,
   "metadata": {},
   "outputs": [
    {
     "name": "stderr",
     "output_type": "stream",
     "text": [
      "/home/ubuntu/anaconda3/envs/tensorflow_p36/lib/python3.6/site-packages/sklearn/preprocessing/label.py:151: DeprecationWarning: The truth value of an empty array is ambiguous. Returning False, but in future this will result in an error. Use `array.size > 0` to check that an array is not empty.\n",
      "  if diff:\n"
     ]
    },
    {
     "data": {
      "text/plain": [
       "array(['chesapeake_bay_retriever', 'pekinese', 'norfolk_terrier',\n",
       "       'cocker_spaniel', 'golden_retriever'], dtype=object)"
      ]
     },
     "execution_count": 34,
     "metadata": {},
     "output_type": "execute_result"
    }
   ],
   "source": [
    "le.inverse_transform(s)"
   ]
  },
  {
   "cell_type": "code",
   "execution_count": null,
   "metadata": {},
   "outputs": [],
   "source": []
  }
 ],
 "metadata": {
  "kernelspec": {
   "display_name": "Environment (conda_tensorflow_p36)",
   "language": "python",
   "name": "conda_tensorflow_p36"
  },
  "language_info": {
   "codemirror_mode": {
    "name": "ipython",
    "version": 3
   },
   "file_extension": ".py",
   "mimetype": "text/x-python",
   "name": "python",
   "nbconvert_exporter": "python",
   "pygments_lexer": "ipython3",
   "version": "3.6.4"
  }
 },
 "nbformat": 4,
 "nbformat_minor": 2
}
