{
 "cells": [
  {
   "cell_type": "markdown",
   "metadata": {},
   "source": [
    "#### Diagram credit - http://www.holehouse.org/mlclass/"
   ]
  },
  {
   "cell_type": "markdown",
   "metadata": {},
   "source": [
    "### Real Brain Neuron"
   ]
  },
  {
   "cell_type": "markdown",
   "metadata": {},
   "source": [
    "<img src=\"http://www.holehouse.org/mlclass/08_Neural_Networks_Representation_files/Image%20[2].png\">"
   ]
  },
  {
   "cell_type": "markdown",
   "metadata": {},
   "source": [
    "### Percepton\n",
    "* x0 is bias unit"
   ]
  },
  {
   "cell_type": "markdown",
   "metadata": {},
   "source": [
    "<img src=\"http://www.holehouse.org/mlclass/08_Neural_Networks_Representation_files/Image%20[3].png\">"
   ]
  },
  {
   "cell_type": "markdown",
   "metadata": {},
   "source": [
    "### Single Layer Perceptron"
   ]
  },
  {
   "cell_type": "markdown",
   "metadata": {},
   "source": [
    "<img src=\"http://www.holehouse.org/mlclass/08_Neural_Networks_Representation_files/Image%20[5].png\">"
   ]
  },
  {
   "cell_type": "markdown",
   "metadata": {},
   "source": [
    "### Multi Layer Perceptron"
   ]
  },
  {
   "cell_type": "markdown",
   "metadata": {},
   "source": [
    "<img src=\"http://www.holehouse.org/mlclass/08_Neural_Networks_Representation_files/Image%20[11].png\">"
   ]
  },
  {
   "cell_type": "markdown",
   "metadata": {},
   "source": [
    "## Implement multi layer perceptron for 'Wine Quality'"
   ]
  },
  {
   "cell_type": "code",
   "execution_count": 2,
   "metadata": {
    "collapsed": true
   },
   "outputs": [],
   "source": [
    "import pandas as pd"
   ]
  },
  {
   "cell_type": "code",
   "execution_count": 54,
   "metadata": {
    "collapsed": true
   },
   "outputs": [],
   "source": [
    "wine_data = pd.read_csv('winequality-red.csv', sep=';')"
   ]
  },
  {
   "cell_type": "code",
   "execution_count": 55,
   "metadata": {},
   "outputs": [
    {
     "data": {
      "text/html": [
       "<div>\n",
       "<style>\n",
       "    .dataframe thead tr:only-child th {\n",
       "        text-align: right;\n",
       "    }\n",
       "\n",
       "    .dataframe thead th {\n",
       "        text-align: left;\n",
       "    }\n",
       "\n",
       "    .dataframe tbody tr th {\n",
       "        vertical-align: top;\n",
       "    }\n",
       "</style>\n",
       "<table border=\"1\" class=\"dataframe\">\n",
       "  <thead>\n",
       "    <tr style=\"text-align: right;\">\n",
       "      <th></th>\n",
       "      <th>fixed acidity</th>\n",
       "      <th>volatile acidity</th>\n",
       "      <th>citric acid</th>\n",
       "      <th>residual sugar</th>\n",
       "      <th>chlorides</th>\n",
       "      <th>free sulfur dioxide</th>\n",
       "      <th>total sulfur dioxide</th>\n",
       "      <th>density</th>\n",
       "      <th>pH</th>\n",
       "      <th>sulphates</th>\n",
       "      <th>alcohol</th>\n",
       "      <th>quality</th>\n",
       "    </tr>\n",
       "  </thead>\n",
       "  <tbody>\n",
       "    <tr>\n",
       "      <th>0</th>\n",
       "      <td>7.4</td>\n",
       "      <td>0.70</td>\n",
       "      <td>0.00</td>\n",
       "      <td>1.9</td>\n",
       "      <td>0.076</td>\n",
       "      <td>11.0</td>\n",
       "      <td>34.0</td>\n",
       "      <td>0.9978</td>\n",
       "      <td>3.51</td>\n",
       "      <td>0.56</td>\n",
       "      <td>9.4</td>\n",
       "      <td>5</td>\n",
       "    </tr>\n",
       "    <tr>\n",
       "      <th>1</th>\n",
       "      <td>7.8</td>\n",
       "      <td>0.88</td>\n",
       "      <td>0.00</td>\n",
       "      <td>2.6</td>\n",
       "      <td>0.098</td>\n",
       "      <td>25.0</td>\n",
       "      <td>67.0</td>\n",
       "      <td>0.9968</td>\n",
       "      <td>3.20</td>\n",
       "      <td>0.68</td>\n",
       "      <td>9.8</td>\n",
       "      <td>5</td>\n",
       "    </tr>\n",
       "    <tr>\n",
       "      <th>2</th>\n",
       "      <td>7.8</td>\n",
       "      <td>0.76</td>\n",
       "      <td>0.04</td>\n",
       "      <td>2.3</td>\n",
       "      <td>0.092</td>\n",
       "      <td>15.0</td>\n",
       "      <td>54.0</td>\n",
       "      <td>0.9970</td>\n",
       "      <td>3.26</td>\n",
       "      <td>0.65</td>\n",
       "      <td>9.8</td>\n",
       "      <td>5</td>\n",
       "    </tr>\n",
       "    <tr>\n",
       "      <th>3</th>\n",
       "      <td>11.2</td>\n",
       "      <td>0.28</td>\n",
       "      <td>0.56</td>\n",
       "      <td>1.9</td>\n",
       "      <td>0.075</td>\n",
       "      <td>17.0</td>\n",
       "      <td>60.0</td>\n",
       "      <td>0.9980</td>\n",
       "      <td>3.16</td>\n",
       "      <td>0.58</td>\n",
       "      <td>9.8</td>\n",
       "      <td>6</td>\n",
       "    </tr>\n",
       "    <tr>\n",
       "      <th>4</th>\n",
       "      <td>7.4</td>\n",
       "      <td>0.70</td>\n",
       "      <td>0.00</td>\n",
       "      <td>1.9</td>\n",
       "      <td>0.076</td>\n",
       "      <td>11.0</td>\n",
       "      <td>34.0</td>\n",
       "      <td>0.9978</td>\n",
       "      <td>3.51</td>\n",
       "      <td>0.56</td>\n",
       "      <td>9.4</td>\n",
       "      <td>5</td>\n",
       "    </tr>\n",
       "  </tbody>\n",
       "</table>\n",
       "</div>"
      ],
      "text/plain": [
       "   fixed acidity  volatile acidity  citric acid  residual sugar  chlorides  \\\n",
       "0            7.4              0.70         0.00             1.9      0.076   \n",
       "1            7.8              0.88         0.00             2.6      0.098   \n",
       "2            7.8              0.76         0.04             2.3      0.092   \n",
       "3           11.2              0.28         0.56             1.9      0.075   \n",
       "4            7.4              0.70         0.00             1.9      0.076   \n",
       "\n",
       "   free sulfur dioxide  total sulfur dioxide  density    pH  sulphates  \\\n",
       "0                 11.0                  34.0   0.9978  3.51       0.56   \n",
       "1                 25.0                  67.0   0.9968  3.20       0.68   \n",
       "2                 15.0                  54.0   0.9970  3.26       0.65   \n",
       "3                 17.0                  60.0   0.9980  3.16       0.58   \n",
       "4                 11.0                  34.0   0.9978  3.51       0.56   \n",
       "\n",
       "   alcohol  quality  \n",
       "0      9.4        5  \n",
       "1      9.8        5  \n",
       "2      9.8        5  \n",
       "3      9.8        6  \n",
       "4      9.4        5  "
      ]
     },
     "execution_count": 55,
     "metadata": {},
     "output_type": "execute_result"
    }
   ],
   "source": [
    "wine_data.head()"
   ]
  },
  {
   "cell_type": "code",
   "execution_count": 56,
   "metadata": {},
   "outputs": [
    {
     "name": "stdout",
     "output_type": "stream",
     "text": [
      "<class 'pandas.core.frame.DataFrame'>\n",
      "RangeIndex: 1599 entries, 0 to 1598\n",
      "Data columns (total 12 columns):\n",
      "fixed acidity           1599 non-null float64\n",
      "volatile acidity        1599 non-null float64\n",
      "citric acid             1599 non-null float64\n",
      "residual sugar          1599 non-null float64\n",
      "chlorides               1599 non-null float64\n",
      "free sulfur dioxide     1599 non-null float64\n",
      "total sulfur dioxide    1599 non-null float64\n",
      "density                 1599 non-null float64\n",
      "pH                      1599 non-null float64\n",
      "sulphates               1599 non-null float64\n",
      "alcohol                 1599 non-null float64\n",
      "quality                 1599 non-null int64\n",
      "dtypes: float64(11), int64(1)\n",
      "memory usage: 150.0 KB\n"
     ]
    }
   ],
   "source": [
    "forest_data.info()"
   ]
  },
  {
   "cell_type": "code",
   "execution_count": 7,
   "metadata": {
    "collapsed": true
   },
   "outputs": [],
   "source": []
  },
  {
   "cell_type": "code",
   "execution_count": 8,
   "metadata": {
    "collapsed": true
   },
   "outputs": [],
   "source": []
  },
  {
   "cell_type": "code",
   "execution_count": null,
   "metadata": {
    "collapsed": true
   },
   "outputs": [],
   "source": []
  },
  {
   "cell_type": "code",
   "execution_count": null,
   "metadata": {
    "collapsed": true
   },
   "outputs": [],
   "source": []
  },
  {
   "cell_type": "code",
   "execution_count": 58,
   "metadata": {
    "collapsed": true
   },
   "outputs": [],
   "source": [
    "y = wine_data['quality']\n",
    "X = wine_data.drop(['quality'], axis=1)"
   ]
  },
  {
   "cell_type": "markdown",
   "metadata": {},
   "source": [
    "### Keras - https://keras.io/\n",
    "* The Python Deep Learning library\n",
    "* It can use - TensorFlow, CNTK etc. in the backend.\n",
    "* By default it comes with tensorflow, we will use tensorflow ( default )"
   ]
  },
  {
   "cell_type": "code",
   "execution_count": 65,
   "metadata": {
    "collapsed": true
   },
   "outputs": [],
   "source": [
    "from keras.models import Sequential\n",
    "from keras.layers import Dense\n",
    "from keras.callbacks import EarlyStopping, ModelCheckpoint, TensorBoard\n",
    "from keras.optimizers import Adam"
   ]
  },
  {
   "cell_type": "markdown",
   "metadata": {},
   "source": [
    "#### The feature part of the data"
   ]
  },
  {
   "cell_type": "code",
   "execution_count": 59,
   "metadata": {},
   "outputs": [
    {
     "data": {
      "text/plain": [
       "(1599, 11)"
      ]
     },
     "execution_count": 59,
     "metadata": {},
     "output_type": "execute_result"
    }
   ],
   "source": [
    "X.shape"
   ]
  },
  {
   "cell_type": "markdown",
   "metadata": {},
   "source": [
    "#### The target part of the data"
   ]
  },
  {
   "cell_type": "code",
   "execution_count": 60,
   "metadata": {},
   "outputs": [
    {
     "data": {
      "text/plain": [
       "(1599,)"
      ]
     },
     "execution_count": 60,
     "metadata": {},
     "output_type": "execute_result"
    }
   ],
   "source": [
    "y.shape"
   ]
  },
  {
   "cell_type": "code",
   "execution_count": 61,
   "metadata": {
    "collapsed": true
   },
   "outputs": [],
   "source": [
    "model = Sequential()\n",
    "\n",
    "model.add(Dense(100, input_dim=X.shape[1], activation='relu')) \n",
    "\n",
    "model.add(Dense(25, activation='relu'))\n",
    "\n",
    "model.add(Dense(1, activation='linear'))\n",
    "\n",
    "# Set optimizer\n",
    "from keras import optimizers\n",
    "\n",
    "# All parameter gradients will be clipped to\n",
    "# a maximum norm of 1.\n",
    "sgd = optimizers.SGD(lr=0.001, clipnorm=1.)\n",
    "\n",
    "# Compile model\n",
    "model.compile(loss='mse', optimizer=sgd, metrics=['accuracy'])"
   ]
  },
  {
   "cell_type": "code",
   "execution_count": 62,
   "metadata": {},
   "outputs": [
    {
     "name": "stdout",
     "output_type": "stream",
     "text": [
      "_________________________________________________________________\n",
      "Layer (type)                 Output Shape              Param #   \n",
      "=================================================================\n",
      "dense_15 (Dense)             (None, 100)               1200      \n",
      "_________________________________________________________________\n",
      "dense_16 (Dense)             (None, 25)                2525      \n",
      "_________________________________________________________________\n",
      "dense_17 (Dense)             (None, 1)                 26        \n",
      "=================================================================\n",
      "Total params: 3,751\n",
      "Trainable params: 3,751\n",
      "Non-trainable params: 0\n",
      "_________________________________________________________________\n"
     ]
    }
   ],
   "source": [
    "model.summary()"
   ]
  },
  {
   "cell_type": "code",
   "execution_count": 66,
   "metadata": {
    "collapsed": true
   },
   "outputs": [],
   "source": [
    "callbacks = [\n",
    "             EarlyStopping(monitor='val_acc', patience=20, verbose=2),\n",
    "             ModelCheckpoint('chkpoints/multi_layer_best_model.h5', monitor='val_acc', save_best_only=True, verbose=0),\n",
    "             TensorBoard(log_dir='./logs', histogram_freq=0, batch_size=32, write_graph=True, write_grads=False, write_images=False, embeddings_freq=0, embeddings_layer_names=None, embeddings_metadata=None)\n",
    "            ]"
   ]
  },
  {
   "cell_type": "code",
   "execution_count": 67,
   "metadata": {},
   "outputs": [
    {
     "name": "stdout",
     "output_type": "stream",
     "text": [
      "Train on 1279 samples, validate on 320 samples\n",
      "Epoch 1/500\n",
      " - 0s - loss: 0.4552 - acc: 0.5801 - val_loss: 0.5254 - val_acc: 0.6250\n",
      "Epoch 2/500\n",
      " - 0s - loss: 0.4553 - acc: 0.5723 - val_loss: 0.5245 - val_acc: 0.6250\n",
      "Epoch 3/500\n",
      " - 0s - loss: 0.4557 - acc: 0.5715 - val_loss: 0.5290 - val_acc: 0.6156\n",
      "Epoch 4/500\n",
      " - 0s - loss: 0.4595 - acc: 0.5739 - val_loss: 0.5242 - val_acc: 0.6219\n",
      "Epoch 5/500\n",
      " - 0s - loss: 0.4537 - acc: 0.5778 - val_loss: 0.5261 - val_acc: 0.6219\n",
      "Epoch 6/500\n",
      " - 0s - loss: 0.4575 - acc: 0.5762 - val_loss: 0.5309 - val_acc: 0.5938\n",
      "Epoch 7/500\n",
      " - 0s - loss: 0.4547 - acc: 0.5645 - val_loss: 0.5294 - val_acc: 0.6031\n",
      "Epoch 8/500\n",
      " - 0s - loss: 0.4563 - acc: 0.5684 - val_loss: 0.5230 - val_acc: 0.6312\n",
      "Epoch 9/500\n",
      " - 0s - loss: 0.4548 - acc: 0.5801 - val_loss: 0.5272 - val_acc: 0.5969\n",
      "Epoch 10/500\n",
      " - 0s - loss: 0.4556 - acc: 0.5731 - val_loss: 0.5303 - val_acc: 0.5938\n",
      "Epoch 11/500\n",
      " - 0s - loss: 0.4564 - acc: 0.5809 - val_loss: 0.5271 - val_acc: 0.6094\n",
      "Epoch 12/500\n",
      " - 0s - loss: 0.4557 - acc: 0.5676 - val_loss: 0.5253 - val_acc: 0.6250\n",
      "Epoch 13/500\n",
      " - 0s - loss: 0.4538 - acc: 0.5794 - val_loss: 0.5305 - val_acc: 0.6219\n",
      "Epoch 14/500\n",
      " - 0s - loss: 0.4581 - acc: 0.5770 - val_loss: 0.5221 - val_acc: 0.6312\n",
      "Epoch 15/500\n",
      " - 0s - loss: 0.4530 - acc: 0.5700 - val_loss: 0.5251 - val_acc: 0.6156\n",
      "Epoch 16/500\n",
      " - 0s - loss: 0.4563 - acc: 0.5731 - val_loss: 0.5259 - val_acc: 0.6250\n",
      "Epoch 17/500\n",
      " - 0s - loss: 0.4565 - acc: 0.5731 - val_loss: 0.5296 - val_acc: 0.5969\n",
      "Epoch 18/500\n",
      " - 0s - loss: 0.4591 - acc: 0.5739 - val_loss: 0.5318 - val_acc: 0.6187\n",
      "Epoch 19/500\n",
      " - 0s - loss: 0.4582 - acc: 0.5778 - val_loss: 0.5223 - val_acc: 0.6312\n",
      "Epoch 20/500\n",
      " - 0s - loss: 0.4584 - acc: 0.5708 - val_loss: 0.5306 - val_acc: 0.5906\n",
      "Epoch 21/500\n",
      " - 0s - loss: 0.4556 - acc: 0.5739 - val_loss: 0.5244 - val_acc: 0.6250\n",
      "Epoch 22/500\n",
      " - 0s - loss: 0.4557 - acc: 0.5715 - val_loss: 0.5271 - val_acc: 0.6313\n",
      "Epoch 23/500\n",
      " - 0s - loss: 0.4553 - acc: 0.5778 - val_loss: 0.5246 - val_acc: 0.6250\n",
      "Epoch 24/500\n",
      " - 0s - loss: 0.4557 - acc: 0.5676 - val_loss: 0.5275 - val_acc: 0.6156\n",
      "Epoch 25/500\n",
      " - 0s - loss: 0.4533 - acc: 0.5754 - val_loss: 0.5235 - val_acc: 0.6250\n",
      "Epoch 26/500\n",
      " - 0s - loss: 0.4536 - acc: 0.5809 - val_loss: 0.5315 - val_acc: 0.5906\n",
      "Epoch 27/500\n",
      " - 0s - loss: 0.4556 - acc: 0.5762 - val_loss: 0.5294 - val_acc: 0.6219\n",
      "Epoch 28/500\n",
      " - 0s - loss: 0.4566 - acc: 0.5708 - val_loss: 0.5203 - val_acc: 0.6219\n",
      "Epoch 29/500\n",
      " - 0s - loss: 0.4563 - acc: 0.5747 - val_loss: 0.5333 - val_acc: 0.5875\n",
      "Epoch 30/500\n",
      " - 0s - loss: 0.4554 - acc: 0.5715 - val_loss: 0.5261 - val_acc: 0.6250\n",
      "Epoch 31/500\n",
      " - 0s - loss: 0.4547 - acc: 0.5801 - val_loss: 0.5269 - val_acc: 0.6219\n",
      "Epoch 32/500\n",
      " - 1s - loss: 0.4546 - acc: 0.5739 - val_loss: 0.5304 - val_acc: 0.5969\n",
      "Epoch 33/500\n",
      " - 0s - loss: 0.4554 - acc: 0.5700 - val_loss: 0.5325 - val_acc: 0.5969\n",
      "Epoch 34/500\n",
      " - 0s - loss: 0.4536 - acc: 0.5770 - val_loss: 0.5230 - val_acc: 0.6281\n",
      "Epoch 35/500\n",
      " - 0s - loss: 0.4563 - acc: 0.5833 - val_loss: 0.5242 - val_acc: 0.6313\n",
      "Epoch 36/500\n",
      " - 0s - loss: 0.4570 - acc: 0.5684 - val_loss: 0.5236 - val_acc: 0.6250\n",
      "Epoch 37/500\n",
      " - 0s - loss: 0.4548 - acc: 0.5668 - val_loss: 0.5315 - val_acc: 0.5906\n",
      "Epoch 38/500\n",
      " - 0s - loss: 0.4554 - acc: 0.5700 - val_loss: 0.5291 - val_acc: 0.6188\n",
      "Epoch 39/500\n",
      " - 0s - loss: 0.4545 - acc: 0.5762 - val_loss: 0.5237 - val_acc: 0.6281\n",
      "Epoch 40/500\n",
      " - 0s - loss: 0.4545 - acc: 0.5794 - val_loss: 0.5252 - val_acc: 0.6250\n",
      "Epoch 41/500\n",
      " - 0s - loss: 0.4580 - acc: 0.5708 - val_loss: 0.5246 - val_acc: 0.6312\n",
      "Epoch 42/500\n",
      " - 0s - loss: 0.4553 - acc: 0.5731 - val_loss: 0.5246 - val_acc: 0.6250\n",
      "Epoch 00042: early stopping\n"
     ]
    },
    {
     "data": {
      "text/plain": [
       "<keras.callbacks.History at 0x186faed3dd8>"
      ]
     },
     "execution_count": 67,
     "metadata": {},
     "output_type": "execute_result"
    }
   ],
   "source": [
    "batch_size = 100\n",
    "n_epochs = 500\n",
    "model.fit(X.values, y, batch_size=batch_size, epochs=n_epochs, validation_split=0.2,     \n",
    "             verbose=2,\n",
    "             callbacks=callbacks)"
   ]
  },
  {
   "cell_type": "code",
   "execution_count": null,
   "metadata": {
    "collapsed": true
   },
   "outputs": [],
   "source": []
  }
 ],
 "metadata": {
  "kernelspec": {
   "display_name": "Python 3",
   "language": "python",
   "name": "python3"
  },
  "language_info": {
   "codemirror_mode": {
    "name": "ipython",
    "version": 3
   },
   "file_extension": ".py",
   "mimetype": "text/x-python",
   "name": "python",
   "nbconvert_exporter": "python",
   "pygments_lexer": "ipython3",
   "version": "3.5.4"
  }
 },
 "nbformat": 4,
 "nbformat_minor": 2
}
