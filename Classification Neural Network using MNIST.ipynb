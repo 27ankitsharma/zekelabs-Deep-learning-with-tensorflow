{
 "cells": [
  {
   "cell_type": "code",
   "execution_count": 1,
   "metadata": {
    "collapsed": true
   },
   "outputs": [],
   "source": [
    "from tensorflow.examples.tutorials.mnist import input_data"
   ]
  },
  {
   "cell_type": "code",
   "execution_count": 2,
   "metadata": {
    "collapsed": true
   },
   "outputs": [],
   "source": [
    "import tensorflow as tf\n",
    "import numpy as np"
   ]
  },
  {
   "cell_type": "markdown",
   "metadata": {},
   "source": [
    "#### Init random weights"
   ]
  },
  {
   "cell_type": "code",
   "execution_count": 3,
   "metadata": {
    "collapsed": true
   },
   "outputs": [],
   "source": [
    "def init_weights(shape):\n",
    "    return tf.Variable(tf.random_normal(shape, stddev=0.01))"
   ]
  },
  {
   "cell_type": "code",
   "execution_count": 4,
   "metadata": {},
   "outputs": [
    {
     "name": "stdout",
     "output_type": "stream",
     "text": [
      "Successfully downloaded train-images-idx3-ubyte.gz 9912422 bytes.\n",
      "Extracting MNIST_data/train-images-idx3-ubyte.gz\n",
      "Successfully downloaded train-labels-idx1-ubyte.gz 28881 bytes.\n",
      "Extracting MNIST_data/train-labels-idx1-ubyte.gz\n",
      "Successfully downloaded t10k-images-idx3-ubyte.gz 1648877 bytes.\n",
      "Extracting MNIST_data/t10k-images-idx3-ubyte.gz\n",
      "Successfully downloaded t10k-labels-idx1-ubyte.gz 4542 bytes.\n",
      "Extracting MNIST_data/t10k-labels-idx1-ubyte.gz\n"
     ]
    }
   ],
   "source": [
    "mnist = input_data.read_data_sets(\"MNIST_data/\", one_hot=True)"
   ]
  },
  {
   "cell_type": "code",
   "execution_count": 5,
   "metadata": {
    "collapsed": true
   },
   "outputs": [],
   "source": [
    "trX, trY, teX, teY = mnist.train.images, mnist.train.labels, mnist.test.images, mnist.test.labels"
   ]
  },
  {
   "cell_type": "code",
   "execution_count": 6,
   "metadata": {},
   "outputs": [
    {
     "data": {
      "text/plain": [
       "(55000, 784)"
      ]
     },
     "execution_count": 6,
     "metadata": {},
     "output_type": "execute_result"
    }
   ],
   "source": [
    "trX.shape"
   ]
  },
  {
   "cell_type": "code",
   "execution_count": 7,
   "metadata": {},
   "outputs": [
    {
     "data": {
      "text/plain": [
       "(10000, 10)"
      ]
     },
     "execution_count": 7,
     "metadata": {},
     "output_type": "execute_result"
    }
   ],
   "source": [
    "teY.shape"
   ]
  },
  {
   "cell_type": "code",
   "execution_count": 8,
   "metadata": {
    "collapsed": true
   },
   "outputs": [],
   "source": [
    "X = tf.placeholder(\"float\", [None, 784])\n",
    "Y = tf.placeholder(\"float\", [None, 10])"
   ]
  },
  {
   "cell_type": "code",
   "execution_count": 9,
   "metadata": {
    "collapsed": true
   },
   "outputs": [],
   "source": [
    "w_h = init_weights([784, 625]) # create symbolic variables\n",
    "w_o = init_weights([625, 10])"
   ]
  },
  {
   "cell_type": "code",
   "execution_count": 10,
   "metadata": {
    "collapsed": true
   },
   "outputs": [],
   "source": [
    "def model(X, w_h, w_o):\n",
    "    h = tf.nn.sigmoid(tf.matmul(X, w_h)) # this is a basic mlp, think 2 stacked logistic regressions\n",
    "    return tf.matmul(h, w_o) # note that we dont take the softmax at the end because our cost fn does that for us"
   ]
  },
  {
   "cell_type": "code",
   "execution_count": 11,
   "metadata": {
    "collapsed": true
   },
   "outputs": [],
   "source": [
    "py_x = model(X, w_h, w_o)"
   ]
  },
  {
   "cell_type": "code",
   "execution_count": 13,
   "metadata": {},
   "outputs": [],
   "source": [
    "cost = tf.reduce_mean(tf.nn.softmax_cross_entropy_with_logits(logits=py_x, labels=Y)) "
   ]
  },
  {
   "cell_type": "code",
   "execution_count": 14,
   "metadata": {
    "collapsed": true
   },
   "outputs": [],
   "source": [
    "train_op = tf.train.GradientDescentOptimizer(0.05).minimize(cost) "
   ]
  },
  {
   "cell_type": "code",
   "execution_count": 15,
   "metadata": {
    "collapsed": true
   },
   "outputs": [],
   "source": [
    "predict_op = tf.argmax(py_x, 1)"
   ]
  },
  {
   "cell_type": "code",
   "execution_count": 16,
   "metadata": {},
   "outputs": [
    {
     "name": "stdout",
     "output_type": "stream",
     "text": [
      "0 0.6904\n",
      "1 0.8239\n",
      "2 0.8613\n",
      "3 0.8803\n",
      "4 0.8882\n",
      "5 0.8938\n",
      "6 0.8981\n",
      "7 0.9008\n",
      "8 0.9041\n",
      "9 0.9061\n",
      "10 0.9079\n",
      "11 0.9102\n",
      "12 0.9119\n",
      "13 0.9126\n",
      "14 0.9143\n",
      "15 0.9145\n",
      "16 0.9152\n",
      "17 0.9159\n",
      "18 0.9171\n",
      "19 0.9178\n",
      "20 0.9186\n",
      "21 0.919\n",
      "22 0.9198\n",
      "23 0.9203\n",
      "24 0.9199\n",
      "25 0.9201\n",
      "26 0.9201\n",
      "27 0.9211\n",
      "28 0.9221\n",
      "29 0.923\n",
      "30 0.9234\n",
      "31 0.9234\n",
      "32 0.9237\n",
      "33 0.9243\n",
      "34 0.9253\n",
      "35 0.9258\n",
      "36 0.9265\n",
      "37 0.9266\n",
      "38 0.9268\n",
      "39 0.9269\n",
      "40 0.9276\n",
      "41 0.9279\n",
      "42 0.9283\n",
      "43 0.9288\n",
      "44 0.9291\n",
      "45 0.9303\n",
      "46 0.9306\n",
      "47 0.9308\n",
      "48 0.9312\n",
      "49 0.9325\n",
      "50 0.9337\n",
      "51 0.9343\n",
      "52 0.9348\n",
      "53 0.9352\n",
      "54 0.9355\n",
      "55 0.9362\n",
      "56 0.937\n",
      "57 0.9377\n",
      "58 0.9384\n",
      "59 0.9394\n",
      "60 0.9396\n",
      "61 0.9397\n",
      "62 0.9402\n",
      "63 0.9403\n",
      "64 0.9411\n",
      "65 0.9414\n",
      "66 0.9417\n",
      "67 0.9423\n",
      "68 0.9432\n",
      "69 0.9436\n",
      "70 0.9445\n",
      "71 0.9448\n",
      "72 0.9455\n",
      "73 0.946\n",
      "74 0.946\n",
      "75 0.9461\n",
      "76 0.9467\n",
      "77 0.9474\n",
      "78 0.9476\n",
      "79 0.9483\n",
      "80 0.9484\n",
      "81 0.9489\n",
      "82 0.9493\n",
      "83 0.9497\n",
      "84 0.9501\n",
      "85 0.9507\n",
      "86 0.9512\n",
      "87 0.9515\n",
      "88 0.952\n",
      "89 0.9523\n",
      "90 0.9526\n",
      "91 0.9529\n",
      "92 0.9535\n",
      "93 0.9538\n",
      "94 0.954\n",
      "95 0.9544\n",
      "96 0.9547\n",
      "97 0.9549\n",
      "98 0.9551\n",
      "99 0.9558\n"
     ]
    }
   ],
   "source": [
    "with tf.Session() as sess:\n",
    "    tf.global_variables_initializer().run()\n",
    "    \n",
    "    for i in range(100):\n",
    "        for start, end in zip(range(0, len(trX), 128), range(128, len(trX)+1, 128)):\n",
    "            sess.run(train_op, feed_dict={X: trX[start:end], Y: trY[start:end]})\n",
    "            \n",
    "        print(i, np.mean(np.argmax(teY, axis=1) ==\n",
    "                         sess.run(predict_op, feed_dict={X: teX})))"
   ]
  },
  {
   "cell_type": "code",
   "execution_count": null,
   "metadata": {
    "collapsed": true
   },
   "outputs": [],
   "source": []
  }
 ],
 "metadata": {
  "kernelspec": {
   "display_name": "Python 3",
   "language": "python",
   "name": "python3"
  },
  "language_info": {
   "codemirror_mode": {
    "name": "ipython",
    "version": 3
   },
   "file_extension": ".py",
   "mimetype": "text/x-python",
   "name": "python",
   "nbconvert_exporter": "python",
   "pygments_lexer": "ipython3",
   "version": "3.5.4"
  }
 },
 "nbformat": 4,
 "nbformat_minor": 2
}
