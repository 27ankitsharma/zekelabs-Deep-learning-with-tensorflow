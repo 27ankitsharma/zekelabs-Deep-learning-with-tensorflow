{
 "cells": [
  {
   "cell_type": "markdown",
   "metadata": {},
   "source": [
    "#### Highlights\n",
    "* Varient of LSTM\n",
    "* Retains the resistance to vanishinig gradient problem\n",
    "* Simple internal structure\n",
    "* Trains faster\n",
    "* Fewer computation required for update hidden states\n",
    "* LSTM in theory remember longer sequences than GRU & outperform them requiring model long-distance relations"
   ]
  },
  {
   "cell_type": "markdown",
   "metadata": {},
   "source": [
    "* Gates Information - LSTM have input, forget & output gate, GRU have update gate & reset gate\n",
    "\n",
    "<img src=\"https://www.safaribooksonline.com/library/view/deep-learning-with/9781787128422/assets/gru-cell.png\">\n"
   ]
  },
  {
   "cell_type": "markdown",
   "metadata": {},
   "source": [
    "<img src=\"https://www.safaribooksonline.com/library/view/deep-learning-with/9781787128422/assets/gru-eq1.png\">"
   ]
  },
  {
   "cell_type": "code",
   "execution_count": 1,
   "metadata": {},
   "outputs": [
    {
     "name": "stderr",
     "output_type": "stream",
     "text": [
      "Using TensorFlow backend.\n"
     ]
    }
   ],
   "source": [
    "import numpy as np\n",
    "import pandas as pd\n",
    "\n",
    "from keras.preprocessing import sequence\n",
    "from keras.models import Sequential\n",
    "from keras.layers import Dense, Dropout, Activation\n",
    "from keras.layers import Embedding\n",
    "from keras.layers import GRU\n",
    "from keras.callbacks import EarlyStopping\n",
    "\n",
    "from keras.datasets import imdb"
   ]
  },
  {
   "cell_type": "code",
   "execution_count": 2,
   "metadata": {},
   "outputs": [
    {
     "name": "stdout",
     "output_type": "stream",
     "text": [
      "Train seq: 25000\n",
      "Test seq: 25000\n"
     ]
    }
   ],
   "source": [
    "n_words = 1000\n",
    "(X_train, y_train), (X_test, y_test) = imdb.load_data(num_words=n_words)\n",
    "print('Train seq: {}'.format(len(X_train)))\n",
    "print('Test seq: {}'.format(len(X_test)))"
   ]
  },
  {
   "cell_type": "code",
   "execution_count": 3,
   "metadata": {},
   "outputs": [
    {
     "data": {
      "text/plain": [
       "(25000,)"
      ]
     },
     "execution_count": 3,
     "metadata": {},
     "output_type": "execute_result"
    }
   ],
   "source": [
    "X_train.shape"
   ]
  },
  {
   "cell_type": "code",
   "execution_count": 9,
   "metadata": {},
   "outputs": [
    {
     "data": {
      "text/plain": [
       "147"
      ]
     },
     "execution_count": 9,
     "metadata": {},
     "output_type": "execute_result"
    }
   ],
   "source": [
    "len(X_train[4])"
   ]
  },
  {
   "cell_type": "code",
   "execution_count": 10,
   "metadata": {},
   "outputs": [
    {
     "data": {
      "text/plain": [
       "(25000,)"
      ]
     },
     "execution_count": 10,
     "metadata": {},
     "output_type": "execute_result"
    }
   ],
   "source": [
    "X_test.shape"
   ]
  },
  {
   "cell_type": "markdown",
   "metadata": {},
   "source": [
    "#### Pad sequence with max_len"
   ]
  },
  {
   "cell_type": "code",
   "execution_count": 11,
   "metadata": {
    "collapsed": true
   },
   "outputs": [],
   "source": [
    "max_len = 200\n",
    "X_train = sequence.pad_sequences(X_train, maxlen=max_len)\n",
    "X_test = sequence.pad_sequences(X_test, maxlen=max_len)"
   ]
  },
  {
   "cell_type": "code",
   "execution_count": 12,
   "metadata": {},
   "outputs": [
    {
     "data": {
      "text/plain": [
       "(25000, 200)"
      ]
     },
     "execution_count": 12,
     "metadata": {},
     "output_type": "execute_result"
    }
   ],
   "source": [
    "X_train.shape"
   ]
  },
  {
   "cell_type": "code",
   "execution_count": 16,
   "metadata": {},
   "outputs": [
    {
     "data": {
      "text/plain": [
       "array([  4, 807,   9,   2,   2,  19,   2,   2, 411,   5,   2,  34,   2,\n",
       "       156,  37, 481,  40,  68, 886,   6, 229,  18,   4,  86,  58,   4,\n",
       "         2,   2,  22, 405,   9,   6, 706,   2,   7,   4,   4,   2, 405,\n",
       "         2, 302,   4, 105,  81,  24,  60, 511,  40,   6,   2, 415,  62,\n",
       "        18, 463,   4, 109,  37,   9, 267,  18,  41,   2, 799,  33,  41,\n",
       "       344,   2,  41,  96, 143,   4,   2,   2,   2, 187,   4, 313,  32,\n",
       "         2,   5,   2,   5,  59, 152,  60, 280, 683,  46,  41,   2, 403,\n",
       "         8,  67,  48,  59,   9, 344,  51,  25,  62, 104,  59,  69,  43,\n",
       "         2,  41, 799, 305,   7,   2,  18,  41,  96,  99, 111,   2,   8,\n",
       "        41,   2,  99, 111,   2,   2,   9,   6, 801,   2,   7,  35,   2,\n",
       "       167,  12,   9, 165, 163, 149,   4,   2, 665,   7,   4, 255,   2,\n",
       "        41, 519, 180,   4, 890,  56,   4,   2, 187,  14,   2, 120, 133,\n",
       "       120,  50, 449,   6, 499, 650, 150,   6,   2, 650, 195, 460,  25,\n",
       "        62, 104,  25,  26, 149,   6, 248,   2,  18,   4,   2, 394,  20,\n",
       "         2,  46,   7,   2,  13,  66,   2,   2,  37,   2, 278, 231,  14,\n",
       "        22,  42,   8, 106,  12])"
      ]
     },
     "execution_count": 16,
     "metadata": {},
     "output_type": "execute_result"
    }
   ],
   "source": [
    "X_train[71]"
   ]
  },
  {
   "cell_type": "code",
   "execution_count": 17,
   "metadata": {},
   "outputs": [
    {
     "name": "stdout",
     "output_type": "stream",
     "text": [
      "_________________________________________________________________\n",
      "Layer (type)                 Output Shape              Param #   \n",
      "=================================================================\n",
      "embedding_1 (Embedding)      (None, 200, 50)           50000     \n",
      "_________________________________________________________________\n",
      "dropout_1 (Dropout)          (None, 200, 50)           0         \n",
      "_________________________________________________________________\n",
      "gru_1 (GRU)                  (None, 100)               45300     \n",
      "_________________________________________________________________\n",
      "dense_1 (Dense)              (None, 250)               25250     \n",
      "_________________________________________________________________\n",
      "dropout_2 (Dropout)          (None, 250)               0         \n",
      "_________________________________________________________________\n",
      "dense_2 (Dense)              (None, 1)                 251       \n",
      "=================================================================\n",
      "Total params: 120,801\n",
      "Trainable params: 120,801\n",
      "Non-trainable params: 0\n",
      "_________________________________________________________________\n"
     ]
    }
   ],
   "source": [
    "# Define network architecture and compile\n",
    "model = Sequential()\n",
    "model.add(Embedding(n_words, 50, input_length=max_len))\n",
    "model.add(Dropout(0.2))\n",
    "model.add(GRU(100, dropout=0.2, recurrent_dropout=0.2))\n",
    "model.add(Dense(250, activation='relu'))\n",
    "model.add(Dropout(0.2))\n",
    "model.add(Dense(1, activation='sigmoid'))\n",
    "\n",
    "model.compile(loss='binary_crossentropy',  optimizer='adam', metrics=['accuracy'])\n",
    "model.summary()"
   ]
  },
  {
   "cell_type": "code",
   "execution_count": 18,
   "metadata": {
    "collapsed": true
   },
   "outputs": [],
   "source": [
    "callbacks = [EarlyStopping(monitor='val_acc', patience=3)]"
   ]
  },
  {
   "cell_type": "code",
   "execution_count": 19,
   "metadata": {},
   "outputs": [
    {
     "name": "stdout",
     "output_type": "stream",
     "text": [
      "Train on 20000 samples, validate on 5000 samples\n",
      "Epoch 1/100\n",
      "20000/20000 [==============================] - 312s 16ms/step - loss: 0.6706 - acc: 0.5758 - val_loss: 0.5749 - val_acc: 0.6926\n",
      "Epoch 2/100\n",
      "20000/20000 [==============================] - 324s 16ms/step - loss: 0.5324 - acc: 0.7344 - val_loss: 0.5180 - val_acc: 0.7372\n",
      "Epoch 3/100\n",
      "20000/20000 [==============================] - 361s 18ms/step - loss: 0.4767 - acc: 0.7744 - val_loss: 0.4768 - val_acc: 0.7670\n",
      "Epoch 4/100\n",
      "20000/20000 [==============================] - 412s 21ms/step - loss: 0.4551 - acc: 0.7898 - val_loss: 0.4569 - val_acc: 0.7846\n",
      "Epoch 5/100\n",
      "20000/20000 [==============================] - 415s 21ms/step - loss: 0.4446 - acc: 0.8014 - val_loss: 0.4500 - val_acc: 0.7830\n",
      "Epoch 6/100\n",
      "20000/20000 [==============================] - 419s 21ms/step - loss: 0.4416 - acc: 0.8025 - val_loss: 0.4813 - val_acc: 0.7628\n",
      "Epoch 7/100\n",
      "20000/20000 [==============================] - 491s 25ms/step - loss: 0.4167 - acc: 0.8146 - val_loss: 0.4182 - val_acc: 0.8070\n",
      "Epoch 8/100\n",
      "20000/20000 [==============================] - 328s 16ms/step - loss: 0.3976 - acc: 0.8287 - val_loss: 0.4133 - val_acc: 0.8150\n",
      "Epoch 9/100\n",
      "20000/20000 [==============================] - 305s 15ms/step - loss: 0.3910 - acc: 0.8319 - val_loss: 0.4154 - val_acc: 0.8120\n",
      "Epoch 10/100\n",
      "20000/20000 [==============================] - 307s 15ms/step - loss: 0.3933 - acc: 0.8318 - val_loss: 0.3898 - val_acc: 0.8288\n",
      "Epoch 11/100\n",
      "20000/20000 [==============================] - 305s 15ms/step - loss: 0.3665 - acc: 0.8430 - val_loss: 0.3918 - val_acc: 0.8296\n",
      "Epoch 12/100\n",
      "20000/20000 [==============================] - 307s 15ms/step - loss: 0.3661 - acc: 0.8438 - val_loss: 0.3810 - val_acc: 0.8372\n",
      "Epoch 13/100\n",
      "20000/20000 [==============================] - 310s 15ms/step - loss: 0.3520 - acc: 0.8521 - val_loss: 0.3865 - val_acc: 0.8374\n",
      "Epoch 14/100\n",
      "20000/20000 [==============================] - 308s 15ms/step - loss: 0.3439 - acc: 0.8549 - val_loss: 0.3793 - val_acc: 0.8398\n",
      "Epoch 15/100\n",
      "20000/20000 [==============================] - 308s 15ms/step - loss: 0.3512 - acc: 0.8525 - val_loss: 0.3894 - val_acc: 0.8334\n",
      "Epoch 16/100\n",
      "20000/20000 [==============================] - 308s 15ms/step - loss: 0.3393 - acc: 0.8573 - val_loss: 0.3684 - val_acc: 0.8426\n",
      "Epoch 17/100\n",
      "20000/20000 [==============================] - 305s 15ms/step - loss: 0.3236 - acc: 0.8653 - val_loss: 0.3599 - val_acc: 0.8464\n",
      "Epoch 18/100\n",
      "20000/20000 [==============================] - 305s 15ms/step - loss: 0.3173 - acc: 0.8686 - val_loss: 0.3744 - val_acc: 0.8446\n",
      "Epoch 19/100\n",
      "20000/20000 [==============================] - 308s 15ms/step - loss: 0.3143 - acc: 0.8660 - val_loss: 0.3608 - val_acc: 0.8462\n",
      "Epoch 20/100\n",
      "20000/20000 [==============================] - 305s 15ms/step - loss: 0.3047 - acc: 0.8734 - val_loss: 0.3557 - val_acc: 0.8546\n",
      "Epoch 21/100\n",
      "20000/20000 [==============================] - 308s 15ms/step - loss: 0.2968 - acc: 0.8772 - val_loss: 0.3502 - val_acc: 0.8518\n",
      "Epoch 22/100\n",
      "20000/20000 [==============================] - 308s 15ms/step - loss: 0.2937 - acc: 0.8786 - val_loss: 0.3530 - val_acc: 0.8534\n",
      "Epoch 23/100\n",
      "20000/20000 [==============================] - 308s 15ms/step - loss: 0.2849 - acc: 0.8821 - val_loss: 0.3462 - val_acc: 0.8500\n"
     ]
    },
    {
     "data": {
      "text/plain": [
       "<keras.callbacks.History at 0x21cb1832668>"
      ]
     },
     "execution_count": 19,
     "metadata": {},
     "output_type": "execute_result"
    }
   ],
   "source": [
    "\n",
    "batch_size = 512\n",
    "n_epochs = 100\n",
    "\n",
    "model.fit(X_train, y_train, batch_size=batch_size, epochs=n_epochs, validation_split=0.2, callbacks=callbacks)"
   ]
  },
  {
   "cell_type": "code",
   "execution_count": null,
   "metadata": {
    "collapsed": true
   },
   "outputs": [],
   "source": []
  }
 ],
 "metadata": {
  "kernelspec": {
   "display_name": "Python 3",
   "language": "python",
   "name": "python3"
  },
  "language_info": {
   "codemirror_mode": {
    "name": "ipython",
    "version": 3
   },
   "file_extension": ".py",
   "mimetype": "text/x-python",
   "name": "python",
   "nbconvert_exporter": "python",
   "pygments_lexer": "ipython3",
   "version": "3.5.4"
  }
 },
 "nbformat": 4,
 "nbformat_minor": 2
}
