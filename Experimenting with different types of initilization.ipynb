{
 "cells": [
  {
   "cell_type": "markdown",
   "metadata": {},
   "source": [
    "* Init of weights & biases is extremely imp\n",
    "<img src=\"https://www.safaribooksonline.com/library/view/python-deep-learning/9781787125193/assets/40f85fc9-2f30-4897-a21c-ff3a8c977e72.png\">"
   ]
  },
  {
   "cell_type": "code",
   "execution_count": 2,
   "metadata": {},
   "outputs": [
    {
     "name": "stderr",
     "output_type": "stream",
     "text": [
      "Using TensorFlow backend.\n"
     ]
    }
   ],
   "source": [
    "import glob\n",
    "import numpy as np\n",
    "from matplotlib import pyplot as plt\n",
    "from sklearn.model_selection import train_test_split\n",
    "\n",
    "from keras.utils import np_utils\n",
    "from keras import utils, losses, optimizers\n",
    "from keras.models import Sequential\n",
    "from keras.layers.core import Dense, Dropout, Activation, Flatten, Lambda\n",
    "from keras.callbacks import EarlyStopping, ModelCheckpoint\n",
    "from keras.layers import Conv2D, MaxPooling2D\n",
    "\n",
    "SEED = 2017"
   ]
  },
  {
   "cell_type": "code",
   "execution_count": 3,
   "metadata": {},
   "outputs": [
    {
     "name": "stdout",
     "output_type": "stream",
     "text": [
      "#Cats: 0, #Dogs: 0\n"
     ]
    }
   ],
   "source": [
    "# Specify data directory and extract all file names for both classes\n",
    "DATA_DIR = 'Data/PetImages/'\n",
    "cats = glob.glob(DATA_DIR + \"Cat/*.jpg\")\n",
    "dogs = glob.glob(DATA_DIR + \"Dog/*.jpg\")\n",
    "\n",
    "print('#Cats: {}, #Dogs: {}'.format(len(cats), len(dogs)))\n",
    "# #Cats: 12500, #Dogs: 12500"
   ]
  },
  {
   "cell_type": "code",
   "execution_count": 4,
   "metadata": {
    "collapsed": true
   },
   "outputs": [],
   "source": [
    "def create_model(init_type='xavier', img_size=100):\n",
    "    # Define architecture\n",
    "    model = Sequential()\n",
    "    model.add(Lambda(lambda x: (x / 255.) - 0.5, input_shape=(img_size, img_size, 3)))\n",
    "    model.add(Conv2D(32, (3, 3), activation='relu', kernel_initializer=init_type))\n",
    "    model.add(Conv2D(32, (3, 3), activation='relu', kernel_initializer=init_type))\n",
    "    model.add(MaxPooling2D(pool_size=(2,2)))\n",
    "    model.add(Dropout(0.5))\n",
    "    model.add(Conv2D(64, (3, 3), activation='relu', kernel_initializer=init_type))\n",
    "    model.add(Conv2D(64, (3, 3), activation='relu', kernel_initializer=init_type))\n",
    "\n",
    "    model.add(Dropout(0.5))\n",
    "    model.add(Flatten())\n",
    "    model.add(Dense(64, activation='relu'))\n",
    "    model.add(Dropout(0.5))\n",
    "    model.add(Dense(1, activation='sigmoid'))\n",
    " \n",
    "    sgd = optimizers.Adam()\n",
    "    model.compile(loss='binary_crossentropy', optimizer=sgd, metrics=['binary_accuracy'])\n",
    " \n",
    "    return model"
   ]
  },
  {
   "cell_type": "code",
   "execution_count": 5,
   "metadata": {
    "collapsed": true
   },
   "outputs": [],
   "source": [
    "models = []\n",
    "for init_type in ['random_uniform', 'glorot_normal', 'glorot_uniform', 'lecun_uniform', 'he_uniform']:\n",
    "    model = create_model(init_type, img_size=50)\n",
    "    models.append(dict({'setting': '{}'.format(init_type), \n",
    "            'model': model\n",
    "            }))"
   ]
  },
  {
   "cell_type": "code",
   "execution_count": 6,
   "metadata": {
    "collapsed": true
   },
   "outputs": [],
   "source": [
    "callbacks = [EarlyStopping(monitor='val_binary_accuracy', patience=3)]"
   ]
  },
  {
   "cell_type": "code",
   "execution_count": null,
   "metadata": {
    "collapsed": true
   },
   "outputs": [],
   "source": [
    "batch_size = 512\n",
    "n_epochs = 500\n",
    "steps_per_epoch = 100\n",
    "validation_steps = round((len(dogs_val)+len(cats_val))/batch_size)\n",
    "\n",
    "train_generator = batchgen(dogs_train, cats_train, batch_size)\n",
    "val_generator = batchgen(dogs_val, cats_val, batch_size)\n",
    "\n",
    "history = []\n",
    "for i in range(len(models)):\n",
    "    print(models[i])\n",
    "    history.append(\n",
    "        models[i]['model'].\n",
    "        fit_generator(train_generator, steps_per_epoch=steps_per_epoch, epochs=n_epochs, validation_data=val_generator, validation_steps=validation_steps, callbacks=callbacks)\n",
    "    )"
   ]
  },
  {
   "cell_type": "code",
   "execution_count": null,
   "metadata": {
    "collapsed": true
   },
   "outputs": [],
   "source": [
    "Max accuracy model random_uniform: 0.88671875\n",
    "Max accuracy model glorot_normal: 0.872265625\n",
    "Max accuracy model glorot_uniform: 0.8875\n",
    "Max accuracy model lecun_uniform: 0.8890625\n",
    "Max accuracy model he_uniform: 0.8775390625"
   ]
  }
 ],
 "metadata": {
  "kernelspec": {
   "display_name": "Python 3",
   "language": "python",
   "name": "python3"
  },
  "language_info": {
   "codemirror_mode": {
    "name": "ipython",
    "version": 3
   },
   "file_extension": ".py",
   "mimetype": "text/x-python",
   "name": "python",
   "nbconvert_exporter": "python",
   "pygments_lexer": "ipython3",
   "version": "3.5.4"
  }
 },
 "nbformat": 4,
 "nbformat_minor": 2
}
