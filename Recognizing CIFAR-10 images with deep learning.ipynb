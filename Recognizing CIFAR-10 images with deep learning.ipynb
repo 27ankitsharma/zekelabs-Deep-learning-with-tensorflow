{
 "cells": [
  {
   "cell_type": "markdown",
   "metadata": {},
   "source": [
    "* http://rodrigob.github.io/are_we_there_yet/build/classification_datasets_results.html#43494641522d3130"
   ]
  },
  {
   "cell_type": "code",
   "execution_count": 1,
   "metadata": {},
   "outputs": [
    {
     "name": "stderr",
     "output_type": "stream",
     "text": [
      "Using TensorFlow backend.\n"
     ]
    },
    {
     "name": "stdout",
     "output_type": "stream",
     "text": [
      "X_train shape: (50000, 32, 32, 3)\n",
      "50000 train samples\n",
      "10000 test samples\n"
     ]
    }
   ],
   "source": [
    "from keras.datasets import cifar10\n",
    "from keras.utils import np_utils\n",
    "from keras.models import Sequential\n",
    "from keras.layers.core import Dense, Dropout, Activation, Flatten\n",
    "from keras.layers.convolutional import Conv2D, MaxPooling2D\n",
    "from keras.optimizers import SGD, Adam, RMSprop\n",
    "import matplotlib.pyplot as plt\n",
    "\n",
    "# CIFAR_10 is a set of 60K images 32x32 pixels on 3 channels\n",
    "IMG_CHANNELS = 3\n",
    "IMG_ROWS = 32\n",
    "IMG_COLS = 32\n",
    "\n",
    "#constant\n",
    "BATCH_SIZE = 128\n",
    "NB_EPOCH = 20\n",
    "NB_CLASSES = 10\n",
    "VERBOSE = 1\n",
    "VALIDATION_SPLIT = 0.2\n",
    "OPTIM = RMSprop()\n",
    "\n",
    "#load dataset\n",
    "(X_train, y_train), (X_test, y_test) = cifar10.load_data()\n",
    "print('X_train shape:', X_train.shape)\n",
    "print(X_train.shape[0], 'train samples')\n",
    "print(X_test.shape[0], 'test samples')"
   ]
  },
  {
   "cell_type": "code",
   "execution_count": 2,
   "metadata": {
    "collapsed": true
   },
   "outputs": [],
   "source": [
    "# convert to categorical\n",
    "Y_train = np_utils.to_categorical(y_train, NB_CLASSES)\n",
    "Y_test = np_utils.to_categorical(y_test, NB_CLASSES)\n",
    "\n",
    "# float and normalization\n",
    "X_train = X_train.astype('float32')\n",
    "X_test = X_test.astype('float32')\n",
    "X_train /= 255\n",
    "X_test /= 255"
   ]
  },
  {
   "cell_type": "code",
   "execution_count": 3,
   "metadata": {
    "collapsed": true
   },
   "outputs": [],
   "source": [
    "# network\n",
    "model = Sequential()\n",
    "model.add(Conv2D(32, (3, 3), padding='same',\n",
    "input_shape=(IMG_ROWS, IMG_COLS, IMG_CHANNELS)))\n",
    "model.add(Activation('relu'))\n",
    "model.add(MaxPooling2D(pool_size=(2, 2)))\n",
    "model.add(Dropout(0.25))"
   ]
  },
  {
   "cell_type": "code",
   "execution_count": 4,
   "metadata": {},
   "outputs": [
    {
     "name": "stdout",
     "output_type": "stream",
     "text": [
      "_________________________________________________________________\n",
      "Layer (type)                 Output Shape              Param #   \n",
      "=================================================================\n",
      "conv2d_1 (Conv2D)            (None, 32, 32, 32)        896       \n",
      "_________________________________________________________________\n",
      "activation_1 (Activation)    (None, 32, 32, 32)        0         \n",
      "_________________________________________________________________\n",
      "max_pooling2d_1 (MaxPooling2 (None, 16, 16, 32)        0         \n",
      "_________________________________________________________________\n",
      "dropout_1 (Dropout)          (None, 16, 16, 32)        0         \n",
      "_________________________________________________________________\n",
      "flatten_1 (Flatten)          (None, 8192)              0         \n",
      "_________________________________________________________________\n",
      "dense_1 (Dense)              (None, 512)               4194816   \n",
      "_________________________________________________________________\n",
      "activation_2 (Activation)    (None, 512)               0         \n",
      "_________________________________________________________________\n",
      "dropout_2 (Dropout)          (None, 512)               0         \n",
      "_________________________________________________________________\n",
      "dense_2 (Dense)              (None, 10)                5130      \n",
      "_________________________________________________________________\n",
      "activation_3 (Activation)    (None, 10)                0         \n",
      "=================================================================\n",
      "Total params: 4,200,842\n",
      "Trainable params: 4,200,842\n",
      "Non-trainable params: 0\n",
      "_________________________________________________________________\n"
     ]
    }
   ],
   "source": [
    "model.add(Flatten())\n",
    "model.add(Dense(512))\n",
    "model.add(Activation('relu'))\n",
    "model.add(Dropout(0.5))\n",
    "model.add(Dense(NB_CLASSES))\n",
    "model.add(Activation('softmax'))\n",
    "model.summary()"
   ]
  },
  {
   "cell_type": "code",
   "execution_count": 5,
   "metadata": {},
   "outputs": [
    {
     "name": "stdout",
     "output_type": "stream",
     "text": [
      "Train on 40000 samples, validate on 10000 samples\n",
      "Epoch 1/20\n",
      "40000/40000 [==============================] - 228s 6ms/step - loss: 1.7491 - acc: 0.3936 - val_loss: 1.4193 - val_acc: 0.4946\n",
      "Epoch 2/20\n",
      "40000/40000 [==============================] - 245s 6ms/step - loss: 1.3603 - acc: 0.5192 - val_loss: 1.2644 - val_acc: 0.5620\n",
      "Epoch 3/20\n",
      "40000/40000 [==============================] - 267s 7ms/step - loss: 1.2240 - acc: 0.5690 - val_loss: 1.1814 - val_acc: 0.5923\n",
      "Epoch 4/20\n",
      "40000/40000 [==============================] - 236s 6ms/step - loss: 1.1393 - acc: 0.6004 - val_loss: 1.1681 - val_acc: 0.5899\n",
      "Epoch 5/20\n",
      "40000/40000 [==============================] - 211s 5ms/step - loss: 1.0609 - acc: 0.6284 - val_loss: 1.1775 - val_acc: 0.5920\n",
      "Epoch 6/20\n",
      "40000/40000 [==============================] - 241s 6ms/step - loss: 1.0017 - acc: 0.6504 - val_loss: 1.0533 - val_acc: 0.6345\n",
      "Epoch 7/20\n",
      "40000/40000 [==============================] - 303s 8ms/step - loss: 0.9526 - acc: 0.6669 - val_loss: 1.0424 - val_acc: 0.6448\n",
      "Epoch 8/20\n",
      "40000/40000 [==============================] - 257s 6ms/step - loss: 0.9076 - acc: 0.6859 - val_loss: 1.0172 - val_acc: 0.6491\n",
      "Epoch 9/20\n",
      "40000/40000 [==============================] - 223s 6ms/step - loss: 0.8674 - acc: 0.6952 - val_loss: 1.0233 - val_acc: 0.6526\n",
      "Epoch 10/20\n",
      "40000/40000 [==============================] - 208s 5ms/step - loss: 0.8293 - acc: 0.7136 - val_loss: 0.9880 - val_acc: 0.6647\n",
      "Epoch 11/20\n",
      "40000/40000 [==============================] - 282s 7ms/step - loss: 0.7956 - acc: 0.7241 - val_loss: 1.0118 - val_acc: 0.6627\n",
      "Epoch 12/20\n",
      "40000/40000 [==============================] - 305s 8ms/step - loss: 0.7614 - acc: 0.7336 - val_loss: 1.0007 - val_acc: 0.6725\n",
      "Epoch 13/20\n",
      "40000/40000 [==============================] - 233s 6ms/step - loss: 0.7280 - acc: 0.7468 - val_loss: 1.1427 - val_acc: 0.6361\n",
      "Epoch 14/20\n",
      "40000/40000 [==============================] - 231s 6ms/step - loss: 0.7045 - acc: 0.7552 - val_loss: 1.0074 - val_acc: 0.6727\n",
      "Epoch 15/20\n",
      "40000/40000 [==============================] - 230s 6ms/step - loss: 0.6769 - acc: 0.7653 - val_loss: 1.0257 - val_acc: 0.6683\n",
      "Epoch 16/20\n",
      "40000/40000 [==============================] - 212s 5ms/step - loss: 0.6504 - acc: 0.7745 - val_loss: 1.0544 - val_acc: 0.6658\n",
      "Epoch 17/20\n",
      "40000/40000 [==============================] - 213s 5ms/step - loss: 0.6322 - acc: 0.7802 - val_loss: 1.0180 - val_acc: 0.6711\n",
      "Epoch 18/20\n",
      "40000/40000 [==============================] - 213s 5ms/step - loss: 0.6090 - acc: 0.7929 - val_loss: 1.0172 - val_acc: 0.6861\n",
      "Epoch 19/20\n",
      "40000/40000 [==============================] - 212s 5ms/step - loss: 0.5871 - acc: 0.7984 - val_loss: 1.0853 - val_acc: 0.6660\n",
      "Epoch 20/20\n",
      "40000/40000 [==============================] - 213s 5ms/step - loss: 0.5740 - acc: 0.8046 - val_loss: 1.0286 - val_acc: 0.6740\n",
      "10000/10000 [==============================] - 14s 1ms/step\n",
      "Test score: 1.01717567234\n",
      "Test accuracy: 0.6757\n"
     ]
    }
   ],
   "source": [
    "# train\n",
    "model.compile(loss='categorical_crossentropy', optimizer=OPTIM,\n",
    "metrics=['accuracy'])\n",
    "model.fit(X_train, Y_train, batch_size=BATCH_SIZE,\n",
    "epochs=NB_EPOCH, validation_split=VALIDATION_SPLIT,\n",
    "verbose=VERBOSE)\n",
    "score = model.evaluate(X_test, Y_test,\n",
    "batch_size=BATCH_SIZE, verbose=VERBOSE)\n",
    "print(\"Test score:\", score[0])\n",
    "print('Test accuracy:', score[1])"
   ]
  },
  {
   "cell_type": "code",
   "execution_count": 6,
   "metadata": {},
   "outputs": [
    {
     "name": "stdout",
     "output_type": "stream",
     "text": [
      "_________________________________________________________________\n",
      "Layer (type)                 Output Shape              Param #   \n",
      "=================================================================\n",
      "conv2d_1 (Conv2D)            (None, 32, 32, 32)        896       \n",
      "_________________________________________________________________\n",
      "activation_1 (Activation)    (None, 32, 32, 32)        0         \n",
      "_________________________________________________________________\n",
      "max_pooling2d_1 (MaxPooling2 (None, 16, 16, 32)        0         \n",
      "_________________________________________________________________\n",
      "dropout_1 (Dropout)          (None, 16, 16, 32)        0         \n",
      "_________________________________________________________________\n",
      "flatten_1 (Flatten)          (None, 8192)              0         \n",
      "_________________________________________________________________\n",
      "dense_1 (Dense)              (None, 512)               4194816   \n",
      "_________________________________________________________________\n",
      "activation_2 (Activation)    (None, 512)               0         \n",
      "_________________________________________________________________\n",
      "dropout_2 (Dropout)          (None, 512)               0         \n",
      "_________________________________________________________________\n",
      "dense_2 (Dense)              (None, 10)                5130      \n",
      "_________________________________________________________________\n",
      "activation_3 (Activation)    (None, 10)                0         \n",
      "=================================================================\n",
      "Total params: 4,200,842\n",
      "Trainable params: 4,200,842\n",
      "Non-trainable params: 0\n",
      "_________________________________________________________________\n"
     ]
    }
   ],
   "source": [
    "model.summary()"
   ]
  },
  {
   "cell_type": "code",
   "execution_count": 24,
   "metadata": {
    "collapsed": true
   },
   "outputs": [],
   "source": [
    "import scipy.misc"
   ]
  },
  {
   "cell_type": "code",
   "execution_count": 25,
   "metadata": {},
   "outputs": [],
   "source": [
    "img_names = ['cat.jpg', 'dog.jpg']"
   ]
  },
  {
   "cell_type": "code",
   "execution_count": 27,
   "metadata": {},
   "outputs": [],
   "source": [
    "import numpy as np"
   ]
  },
  {
   "cell_type": "code",
   "execution_count": 57,
   "metadata": {},
   "outputs": [],
   "source": [
    "imgs = scipy.misc.imread('cat-dog2.jpg')"
   ]
  },
  {
   "cell_type": "code",
   "execution_count": 58,
   "metadata": {},
   "outputs": [],
   "source": [
    "imgs = scipy.misc.imresize(imgs, (32,32))"
   ]
  },
  {
   "cell_type": "code",
   "execution_count": 59,
   "metadata": {},
   "outputs": [
    {
     "data": {
      "text/plain": [
       "array([3], dtype=int64)"
      ]
     },
     "execution_count": 59,
     "metadata": {},
     "output_type": "execute_result"
    }
   ],
   "source": [
    "model.predict_classes(imgs.reshape(1,32,32,3))"
   ]
  },
  {
   "cell_type": "code",
   "execution_count": 60,
   "metadata": {},
   "outputs": [
    {
     "data": {
      "text/plain": [
       "array([[ 0.,  0.,  0.,  1.,  0.,  0.,  0.,  0.,  0.,  0.]], dtype=float32)"
      ]
     },
     "execution_count": 60,
     "metadata": {},
     "output_type": "execute_result"
    }
   ],
   "source": [
    "model.predict_proba(imgs.reshape(1,32,32,3))"
   ]
  },
  {
   "cell_type": "code",
   "execution_count": null,
   "metadata": {
    "collapsed": true
   },
   "outputs": [],
   "source": []
  }
 ],
 "metadata": {
  "kernelspec": {
   "display_name": "Python 3",
   "language": "python",
   "name": "python3"
  },
  "language_info": {
   "codemirror_mode": {
    "name": "ipython",
    "version": 3
   },
   "file_extension": ".py",
   "mimetype": "text/x-python",
   "name": "python",
   "nbconvert_exporter": "python",
   "pygments_lexer": "ipython3",
   "version": "3.5.4"
  }
 },
 "nbformat": 4,
 "nbformat_minor": 2
}
