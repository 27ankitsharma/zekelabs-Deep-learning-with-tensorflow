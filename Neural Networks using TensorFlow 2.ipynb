{
 "cells": [
  {
   "cell_type": "markdown",
   "metadata": {},
   "source": [
    "#### Implement\n",
    "* f(x) = a * x + b\n",
    "* We have only one training data .i.e 5 in this case\n",
    "* Output data is 50\n",
    "* Predict best a & b"
   ]
  },
  {
   "cell_type": "code",
   "execution_count": 1,
   "metadata": {
    "collapsed": true
   },
   "outputs": [],
   "source": [
    "import tensorflow as tf"
   ]
  },
  {
   "cell_type": "code",
   "execution_count": 2,
   "metadata": {
    "collapsed": true
   },
   "outputs": [],
   "source": [
    "sess = tf.Session()"
   ]
  },
  {
   "cell_type": "code",
   "execution_count": 3,
   "metadata": {
    "collapsed": true
   },
   "outputs": [],
   "source": [
    "a = tf.Variable(tf.constant(3.))\n",
    "b = tf.Variable(tf.constant(1.))\n",
    "x_val = 5\n",
    "x_data = tf.placeholder(dtype=tf.float32)"
   ]
  },
  {
   "cell_type": "code",
   "execution_count": 4,
   "metadata": {
    "collapsed": true
   },
   "outputs": [],
   "source": [
    "mul = tf.add(tf.multiply(a, x_data), b)"
   ]
  },
  {
   "cell_type": "markdown",
   "metadata": {},
   "source": [
    "#### loss is basically, square of difference of prediction & actuals"
   ]
  },
  {
   "cell_type": "code",
   "execution_count": 5,
   "metadata": {
    "collapsed": true
   },
   "outputs": [],
   "source": [
    "loss = tf.square(tf.subtract(mul, 50))"
   ]
  },
  {
   "cell_type": "markdown",
   "metadata": {},
   "source": [
    "#### initialize all variables, in this case only a"
   ]
  },
  {
   "cell_type": "code",
   "execution_count": 6,
   "metadata": {
    "collapsed": true
   },
   "outputs": [],
   "source": [
    "init = tf.global_variables_initializer()\n",
    "sess.run(init)"
   ]
  },
  {
   "cell_type": "code",
   "execution_count": 7,
   "metadata": {
    "collapsed": true
   },
   "outputs": [],
   "source": [
    "my_opt = tf.train.GradientDescentOptimizer(0.01)\n",
    "train_step = my_opt.minimize(loss)"
   ]
  },
  {
   "cell_type": "code",
   "execution_count": 8,
   "metadata": {},
   "outputs": [
    {
     "name": "stdout",
     "output_type": "stream",
     "text": [
      "a :  3.0\n",
      "b :  1.0\n",
      "new a :  6.4\n",
      "new b :  1.68\n",
      "out  33.68\n",
      "a :  6.4\n",
      "b :  1.68\n",
      "new a :  8.032\n",
      "new b :  2.0064\n",
      "out  42.1664\n",
      "a :  8.032\n",
      "b :  2.0064\n",
      "new a :  8.81536\n",
      "new b :  2.16307\n",
      "out  46.2399\n",
      "a :  8.81536\n",
      "b :  2.16307\n",
      "new a :  9.19137\n",
      "new b :  2.23827\n",
      "out  48.1951\n",
      "a :  9.19137\n",
      "b :  2.23827\n",
      "new a :  9.37186\n",
      "new b :  2.27437\n",
      "out  49.1337\n",
      "a :  9.37186\n",
      "b :  2.27437\n",
      "new a :  9.45849\n",
      "new b :  2.2917\n",
      "out  49.5842\n",
      "a :  9.45849\n",
      "b :  2.2917\n",
      "new a :  9.50008\n",
      "new b :  2.30002\n",
      "out  49.8004\n",
      "a :  9.50008\n",
      "b :  2.30002\n",
      "new a :  9.52004\n",
      "new b :  2.30401\n",
      "out  49.9042\n",
      "a :  9.52004\n",
      "b :  2.30401\n",
      "new a :  9.52962\n",
      "new b :  2.30592\n",
      "out  49.954\n",
      "a :  9.52962\n",
      "b :  2.30592\n",
      "new a :  9.53422\n",
      "new b :  2.30684\n",
      "out  49.9779\n"
     ]
    }
   ],
   "source": [
    "for i in range(10):\n",
    "    print ('a : ',sess.run(a))\n",
    "    print ('b : ',sess.run(b))\n",
    "    sess.run(train_step, feed_dict={x_data:x_val})\n",
    "    print ('new a : ', sess.run(a))\n",
    "    print ('new b : ', sess.run(b))\n",
    "    print ('out ' ,sess.run(mul,feed_dict={x_data:x_val}))"
   ]
  },
  {
   "cell_type": "code",
   "execution_count": 10,
   "metadata": {},
   "outputs": [
    {
     "data": {
      "text/plain": [
       "49.97"
      ]
     },
     "execution_count": 10,
     "metadata": {},
     "output_type": "execute_result"
    }
   ],
   "source": [
    "9.534 * 5 + 2.30"
   ]
  },
  {
   "cell_type": "code",
   "execution_count": null,
   "metadata": {
    "collapsed": true
   },
   "outputs": [],
   "source": []
  }
 ],
 "metadata": {
  "kernelspec": {
   "display_name": "Python 3",
   "language": "python",
   "name": "python3"
  },
  "language_info": {
   "codemirror_mode": {
    "name": "ipython",
    "version": 3
   },
   "file_extension": ".py",
   "mimetype": "text/x-python",
   "name": "python",
   "nbconvert_exporter": "python",
   "pygments_lexer": "ipython3",
   "version": "3.5.4"
  }
 },
 "nbformat": 4,
 "nbformat_minor": 2
}
