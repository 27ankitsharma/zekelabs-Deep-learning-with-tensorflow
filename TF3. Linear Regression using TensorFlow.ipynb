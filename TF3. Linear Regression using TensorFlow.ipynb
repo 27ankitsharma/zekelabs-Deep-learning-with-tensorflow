{
 "cells": [
  {
   "cell_type": "code",
   "execution_count": 1,
   "metadata": {},
   "outputs": [
    {
     "name": "stderr",
     "output_type": "stream",
     "text": [
      "C:\\Users\\awant\\Anaconda3\\lib\\site-packages\\h5py\\__init__.py:36: FutureWarning: Conversion of the second argument of issubdtype from `float` to `np.floating` is deprecated. In future, it will be treated as `np.float64 == np.dtype(float).type`.\n",
      "  from ._conv import register_converters as _register_converters\n"
     ]
    }
   ],
   "source": [
    "import tensorflow as tf"
   ]
  },
  {
   "cell_type": "code",
   "execution_count": 2,
   "metadata": {},
   "outputs": [],
   "source": [
    "import numpy as np"
   ]
  },
  {
   "cell_type": "code",
   "execution_count": 3,
   "metadata": {},
   "outputs": [],
   "source": [
    "samples = 10000\n",
    "x = np.linspace(0,10,samples)\n",
    "y = 2*x + 10"
   ]
  },
  {
   "cell_type": "code",
   "execution_count": 9,
   "metadata": {},
   "outputs": [],
   "source": [
    "A = tf.Variable([[0.5]])\n",
    "b = tf.Variable([[3.0]])"
   ]
  },
  {
   "cell_type": "code",
   "execution_count": 10,
   "metadata": {},
   "outputs": [
    {
     "data": {
      "text/plain": [
       "TensorShape([Dimension(1), Dimension(1)])"
      ]
     },
     "execution_count": 10,
     "metadata": {},
     "output_type": "execute_result"
    }
   ],
   "source": [
    "A.shape"
   ]
  },
  {
   "cell_type": "code",
   "execution_count": 11,
   "metadata": {},
   "outputs": [],
   "source": [
    "data = tf.placeholder(shape=[None,1], dtype=tf.float32)\n",
    "target = tf.placeholder(shape=[None,1], dtype=tf.float32)"
   ]
  },
  {
   "cell_type": "code",
   "execution_count": 12,
   "metadata": {},
   "outputs": [],
   "source": [
    "model = tf.add(tf.multiply(data,A),b)"
   ]
  },
  {
   "cell_type": "code",
   "execution_count": 13,
   "metadata": {},
   "outputs": [],
   "source": [
    "loss = tf.reduce_sum(tf.pow(model - target,2)) / (2*samples)"
   ]
  },
  {
   "cell_type": "code",
   "execution_count": 14,
   "metadata": {},
   "outputs": [],
   "source": [
    "learning_rate = 0.5\n",
    "opt = tf.train.GradientDescentOptimizer(learning_rate)"
   ]
  },
  {
   "cell_type": "code",
   "execution_count": 15,
   "metadata": {},
   "outputs": [],
   "source": [
    "train = opt.minimize(loss)"
   ]
  },
  {
   "cell_type": "code",
   "execution_count": 16,
   "metadata": {},
   "outputs": [
    {
     "name": "stdout",
     "output_type": "stream",
     "text": [
      "[11.713635, None]\n",
      "[array([[4.880385]], dtype=float32), array([[3.7347226]], dtype=float32)]\n",
      "[6.716803, None]\n",
      "[array([[1.6613235]], dtype=float32), array([[3.3268664]], dtype=float32)]\n",
      "[3.569491, None]\n",
      "[array([[3.9354863]], dtype=float32), array([[3.7463522]], dtype=float32)]\n",
      "[2.1027703, None]\n",
      "[array([[2.302047]], dtype=float32), array([[3.5770543]], dtype=float32)]\n",
      "[1.2381911, None]\n",
      "[array([[3.4100862]], dtype=float32), array([[3.8219373]], dtype=float32)]\n",
      "[0.89011717, None]\n",
      "[array([[2.574518]], dtype=float32), array([[3.7753036]], dtype=float32)]\n",
      "[0.7285342, None]\n",
      "[array([[3.167496]], dtype=float32), array([[3.9470727]], dtype=float32)]\n",
      "[0.56005174, None]\n",
      "[array([[2.7215922]], dtype=float32), array([[3.953592]], dtype=float32)]\n",
      "[0.5495136, None]\n",
      "[array([[3.0381033]], dtype=float32), array([[4.0822477]], dtype=float32)]\n",
      "[0.4902799, None]\n",
      "[array([[2.8001578]], dtype=float32), array([[4.123356]], dtype=float32)]\n",
      "[0.45130995, None]\n",
      "[array([[2.9432697]], dtype=float32), array([[4.219639]], dtype=float32)]\n",
      "[0.4288871, None]\n",
      "[array([[2.754049]], dtype=float32), array([[4.262958]], dtype=float32)]\n",
      "[0.4386925, None]\n",
      "[array([[2.9195096]], dtype=float32), array([[4.361172]], dtype=float32)]\n",
      "[0.41419277, None]\n",
      "[array([[2.807751]], dtype=float32), array([[4.416402]], dtype=float32)]\n",
      "[0.40945774, None]\n",
      "[array([[2.8671699]], dtype=float32), array([[4.49833]], dtype=float32)]\n",
      "[0.39683583, None]\n",
      "[array([[2.812214]], dtype=float32), array([[4.561798]], dtype=float32)]\n",
      "[0.3795046, None]\n",
      "[array([[2.8065927]], dtype=float32), array([[4.6307435]], dtype=float32)]\n",
      "[0.35285044, None]\n",
      "[array([[2.7855527]], dtype=float32), array([[4.6933]], dtype=float32)]\n",
      "[0.35218814, None]\n",
      "[array([[2.791059]], dtype=float32), array([[4.7604814]], dtype=float32)]\n",
      "[0.33452263, None]\n",
      "[array([[2.748587]], dtype=float32), array([[4.817915]], dtype=float32)]\n",
      "[0.33663034, None]\n",
      "[array([[2.7729275]], dtype=float32), array([[4.8863916]], dtype=float32)]\n",
      "[0.34939247, None]\n",
      "[array([[2.7636724]], dtype=float32), array([[4.9533186]], dtype=float32)]\n",
      "[0.30595693, None]\n",
      "[array([[2.744264]], dtype=float32), array([[5.011007]], dtype=float32)]\n",
      "[0.34411538, None]\n",
      "[array([[2.7674634]], dtype=float32), array([[5.0834427]], dtype=float32)]\n",
      "[0.32916433, None]\n",
      "[array([[2.7368405]], dtype=float32), array([[5.1456127]], dtype=float32)]\n",
      "[0.2901141, None]\n",
      "[array([[2.7214847]], dtype=float32), array([[5.2030454]], dtype=float32)]\n",
      "[0.2784041, None]\n",
      "[array([[2.7198517]], dtype=float32), array([[5.2608376]], dtype=float32)]\n",
      "[0.29009628, None]\n",
      "[array([[2.7091465]], dtype=float32), array([[5.320424]], dtype=float32)]\n",
      "[0.2885083, None]\n",
      "[array([[2.6902626]], dtype=float32), array([[5.3792152]], dtype=float32)]\n",
      "[0.2755443, None]\n",
      "[array([[2.684132]], dtype=float32), array([[5.437931]], dtype=float32)]\n",
      "[0.24831, None]\n",
      "[array([[2.6949472]], dtype=float32), array([[5.4939823]], dtype=float32)]\n",
      "[0.2454267, None]\n",
      "[array([[2.6716938]], dtype=float32), array([[5.5448623]], dtype=float32)]\n",
      "[0.25996658, None]\n",
      "[array([[2.6625605]], dtype=float32), array([[5.601837]], dtype=float32)]\n",
      "[0.23823433, None]\n",
      "[array([[2.659278]], dtype=float32), array([[5.6555095]], dtype=float32)]\n",
      "[0.22591059, None]\n",
      "[array([[2.6704273]], dtype=float32), array([[5.709201]], dtype=float32)]\n",
      "[0.23436235, None]\n",
      "[array([[2.6187382]], dtype=float32), array([[5.7557445]], dtype=float32)]\n",
      "[0.2349978, None]\n",
      "[array([[2.6400065]], dtype=float32), array([[5.8142133]], dtype=float32)]\n",
      "[0.20659003, None]\n",
      "[array([[2.6160915]], dtype=float32), array([[5.859912]], dtype=float32)]\n",
      "[0.20975414, None]\n",
      "[array([[2.6436422]], dtype=float32), array([[5.9146757]], dtype=float32)]\n",
      "[0.2202511, None]\n",
      "[array([[2.5885422]], dtype=float32), array([[5.9599075]], dtype=float32)]\n",
      "[0.2011434, None]\n",
      "[array([[2.6297388]], dtype=float32), array([[6.0156956]], dtype=float32)]\n",
      "[0.18814209, None]\n",
      "[array([[2.5687551]], dtype=float32), array([[6.0532775]], dtype=float32)]\n",
      "[0.19315477, None]\n",
      "[array([[2.6198993]], dtype=float32), array([[6.109588]], dtype=float32)]\n",
      "[0.18431112, None]\n",
      "[array([[2.56191]], dtype=float32), array([[6.1477237]], dtype=float32)]\n",
      "[0.17742512, None]\n",
      "[array([[2.58338]], dtype=float32), array([[6.196913]], dtype=float32)]\n",
      "[0.1854795, None]\n",
      "[array([[2.5562286]], dtype=float32), array([[6.2415185]], dtype=float32)]\n",
      "[0.17388713, None]\n",
      "[array([[2.573041]], dtype=float32), array([[6.2902718]], dtype=float32)]\n",
      "[0.16643742, None]\n",
      "[array([[2.534453]], dtype=float32), array([[6.3291764]], dtype=float32)]\n",
      "[0.172252, None]\n",
      "[array([[2.554067]], dtype=float32), array([[6.378957]], dtype=float32)]\n",
      "[0.1665019, None]\n",
      "[array([[2.5484478]], dtype=float32), array([[6.424079]], dtype=float32)]\n",
      "[0.16052742, None]\n",
      "[array([[2.532289]], dtype=float32), array([[6.4664917]], dtype=float32)]\n",
      "[0.14936216, None]\n",
      "[array([[2.5328357]], dtype=float32), array([[6.5088444]], dtype=float32)]\n",
      "[0.1516424, None]\n",
      "[array([[2.5098646]], dtype=float32), array([[6.5487747]], dtype=float32)]\n",
      "[0.15312321, None]\n",
      "[array([[2.5160189]], dtype=float32), array([[6.594052]], dtype=float32)]\n",
      "[0.14336343, None]\n",
      "[array([[2.5099256]], dtype=float32), array([[6.6352205]], dtype=float32)]\n",
      "[0.14268702, None]\n",
      "[array([[2.5009103]], dtype=float32), array([[6.6762605]], dtype=float32)]\n",
      "[0.14306156, None]\n",
      "[array([[2.503088]], dtype=float32), array([[6.719631]], dtype=float32)]\n",
      "[0.13944593, None]\n",
      "[array([[2.4824612]], dtype=float32), array([[6.758977]], dtype=float32)]\n",
      "[0.13271058, None]\n",
      "[array([[2.4881487]], dtype=float32), array([[6.8007708]], dtype=float32)]\n",
      "[0.124173045, None]\n",
      "[array([[2.4800951]], dtype=float32), array([[6.8383555]], dtype=float32)]\n",
      "[0.12962988, None]\n",
      "[array([[2.4740634]], dtype=float32), array([[6.8784404]], dtype=float32)]\n",
      "[0.12241981, None]\n",
      "[array([[2.4661725]], dtype=float32), array([[6.9164596]], dtype=float32)]\n",
      "[0.11768533, None]\n",
      "[array([[2.455657]], dtype=float32), array([[6.9530354]], dtype=float32)]\n",
      "[0.11285539, None]\n",
      "[array([[2.4645782]], dtype=float32), array([[6.991408]], dtype=float32)]\n",
      "[0.1098411, None]\n",
      "[array([[2.4403307]], dtype=float32), array([[7.024173]], dtype=float32)]\n",
      "[0.11347067, None]\n",
      "[array([[2.4460814]], dtype=float32), array([[7.0631547]], dtype=float32)]\n",
      "[0.10924658, None]\n",
      "[array([[2.4295843]], dtype=float32), array([[7.0978475]], dtype=float32)]\n",
      "[0.10271362, None]\n",
      "[array([[2.4392269]], dtype=float32), array([[7.134667]], dtype=float32)]\n",
      "[0.10318118, None]\n",
      "[array([[2.4220085]], dtype=float32), array([[7.168038]], dtype=float32)]\n",
      "[0.099642344, None]\n",
      "[array([[2.4152908]], dtype=float32), array([[7.202222]], dtype=float32)]\n",
      "[0.100859456, None]\n",
      "[array([[2.4147782]], dtype=float32), array([[7.2381954]], dtype=float32)]\n",
      "[0.10393447, None]\n",
      "[array([[2.4196863]], dtype=float32), array([[7.2765656]], dtype=float32)]\n",
      "[0.09297707, None]\n",
      "[array([[2.408267]], dtype=float32), array([[7.3089457]], dtype=float32)]\n",
      "[0.08999305, None]\n",
      "[array([[2.4002767]], dtype=float32), array([[7.341175]], dtype=float32)]\n",
      "[0.09319133, None]\n",
      "[array([[2.394283]], dtype=float32), array([[7.375323]], dtype=float32)]\n",
      "[0.08501357, None]\n",
      "[array([[2.3877308]], dtype=float32), array([[7.4067287]], dtype=float32)]\n",
      "[0.08225797, None]\n",
      "[array([[2.4035504]], dtype=float32), array([[7.4408135]], dtype=float32)]\n",
      "[0.07982399, None]\n",
      "[array([[2.3684397]], dtype=float32), array([[7.4664683]], dtype=float32)]\n",
      "[0.0838712, None]\n",
      "[array([[2.3905182]], dtype=float32), array([[7.502784]], dtype=float32)]\n",
      "[0.0769545, None]\n",
      "[array([[2.3648698]], dtype=float32), array([[7.529589]], dtype=float32)]\n",
      "[0.078109875, None]\n",
      "[array([[2.3760536]], dtype=float32), array([[7.562859]], dtype=float32)]\n",
      "[0.074071325, None]\n",
      "[array([[2.3694046]], dtype=float32), array([[7.592226]], dtype=float32)]\n",
      "[0.08017872, None]\n",
      "[array([[2.3608744]], dtype=float32), array([[7.624217]], dtype=float32)]\n",
      "[0.06634911, None]\n",
      "[array([[2.359417]], dtype=float32), array([[7.6519227]], dtype=float32)]\n",
      "[0.06684753, None]\n",
      "[array([[2.348473]], dtype=float32), array([[7.6787167]], dtype=float32)]\n",
      "[0.072031744, None]\n",
      "[array([[2.3579445]], dtype=float32), array([[7.7111697]], dtype=float32)]\n",
      "[0.06379343, None]\n",
      "[array([[2.3228257]], dtype=float32), array([[7.733549]], dtype=float32)]\n",
      "[0.06693081, None]\n",
      "[array([[2.3530166]], dtype=float32), array([[7.7673807]], dtype=float32)]\n",
      "[0.06341128, None]\n",
      "[array([[2.3223834]], dtype=float32), array([[7.7909393]], dtype=float32)]\n",
      "[0.06172783, None]\n",
      "[array([[2.3285525]], dtype=float32), array([[7.8197827]], dtype=float32)]\n",
      "[0.06079397, None]\n",
      "[array([[2.3351912]], dtype=float32), array([[7.8486676]], dtype=float32)]\n",
      "[0.058336083, None]\n",
      "[array([[2.3150387]], dtype=float32), array([[7.872644]], dtype=float32)]\n",
      "[0.054653168, None]\n",
      "[array([[2.3177676]], dtype=float32), array([[7.898739]], dtype=float32)]\n",
      "[0.058542944, None]\n",
      "[array([[2.314095]], dtype=float32), array([[7.9260445]], dtype=float32)]\n",
      "[0.056648515, None]\n",
      "[array([[2.3213575]], dtype=float32), array([[7.9544587]], dtype=float32)]\n",
      "[0.050919726, None]\n",
      "[array([[2.2985535]], dtype=float32), array([[7.975769]], dtype=float32)]\n",
      "[0.050832875, None]\n",
      "[array([[2.3072784]], dtype=float32), array([[8.002168]], dtype=float32)]\n",
      "[0.048051994, None]\n",
      "[array([[2.2992127]], dtype=float32), array([[8.02498]], dtype=float32)]\n",
      "[0.048738077, None]\n",
      "[array([[2.2997417]], dtype=float32), array([[8.049737]], dtype=float32)]\n",
      "[0.04519181, None]\n",
      "[array([[2.2946417]], dtype=float32), array([[8.072125]], dtype=float32)]\n"
     ]
    }
   ],
   "source": [
    "batch_size = 1000\n",
    "with tf.Session() as sess:\n",
    "    sess.run(tf.global_variables_initializer())\n",
    "    for i in range(100):\n",
    "        rand_index = np.random.choice(samples,batch_size)\n",
    "        x_t = x[rand_index]\n",
    "        y_t = y[rand_index]\n",
    "        \n",
    "        print(sess.run([loss,train], feed_dict={data:x_t.reshape(-1,1), target:y_t.reshape(-1,1)}))\n",
    "        print( sess.run([A,b]) )\n",
    "        "
   ]
  },
  {
   "cell_type": "code",
   "execution_count": null,
   "metadata": {},
   "outputs": [],
   "source": []
  }
 ],
 "metadata": {
  "kernelspec": {
   "display_name": "Python 3",
   "language": "python",
   "name": "python3"
  },
  "language_info": {
   "codemirror_mode": {
    "name": "ipython",
    "version": 3
   },
   "file_extension": ".py",
   "mimetype": "text/x-python",
   "name": "python",
   "nbconvert_exporter": "python",
   "pygments_lexer": "ipython3",
   "version": "3.6.4"
  }
 },
 "nbformat": 4,
 "nbformat_minor": 2
}
