{
 "cells": [
  {
   "cell_type": "code",
   "execution_count": 2,
   "metadata": {},
   "outputs": [],
   "source": [
    "import pandas as pd\n",
    "from sklearn.preprocessing import MinMaxScaler\n",
    "from keras.layers import Input, LSTM, Dense\n",
    "from keras.models import Model\n",
    "import numpy as np\n",
    "import os\n",
    "from keras.callbacks import TensorBoard\n",
    "\n",
    "\n",
    "def read_data():\n",
    "    df = pd.read_csv(\"bitcoin.csv.txt\", index_col=False)\n",
    "    df[\"Time\"] = pd.to_datetime(df[\"Timestamp\"], unit='s')\n",
    "    df.index = df[\"Time\"]\n",
    "    df = df.drop([\"Time\", \"Timestamp\"], axis=1)\n",
    "    return df\n",
    "\n",
    "\n",
    "def select_dates(df, start, end):\n",
    "    mask = (df.index > start) & (df.index <= end)\n",
    "    return df[mask]\n",
    "\n",
    "\n",
    "def scale_data(df, scaler=None):\n",
    "    scaled_df = pd.DataFrame(index=df.index)\n",
    "    if not scaler:\n",
    "        scaler = MinMaxScaler(feature_range=(-1,1))\n",
    "    scaled_df[\"Price\"] = scaler.fit_transform(df.Close.values.reshape(-1,1))\n",
    "    return scaler, scaled_df\n",
    "\n",
    "\n",
    "def diff_data(df):\n",
    "    df_diffed = df.diff()\n",
    "    df_diffed.fillna(0, inplace=True)\n",
    "    return df_diffed\n",
    "\n",
    "\n",
    "def lag_dataframe(data, lags=1):\n",
    "\n",
    "    df = pd.DataFrame(data)\n",
    "    columns = [df.shift(i) for i in range(lags, 0, -1)]\n",
    "    columns.append(df)\n",
    "    df = pd.concat(columns, axis=1)\n",
    "    df.fillna(0, inplace=True)\n",
    "\n",
    "    cols = df.columns.tolist()\n",
    "    for i, col in enumerate(cols):\n",
    "        if i == 0:\n",
    "            cols[i] = \"x\"\n",
    "        else:\n",
    "            cols[i] = \"x-\" + str(i)\n",
    "\n",
    "    cols[-1] = \"y\"\n",
    "    df.columns = cols\n",
    "    return df\n",
    "\n",
    "\n",
    "def prep_data(df_train, df_test, lags):\n",
    "    df_train = diff_data(df_train)\n",
    "    scaler, df_train = scale_data(df_train)\n",
    "    df_test = diff_data(df_test)\n",
    "    scaler, df_test = scale_data(df_test, scaler)\n",
    "    df_train = lag_dataframe(df_train, lags=lags)\n",
    "    df_test = lag_dataframe(df_test, lags=lags)\n",
    "\n",
    "    X_train = df_train.drop(\"y\", axis=1)\n",
    "    y_train = df_train.y\n",
    "    X_test = df_test.drop(\"y\", axis=1)\n",
    "    y_test = df_test.y\n",
    "\n",
    "    X_train = np.reshape(X_train.values, (X_train.shape[0], X_train.shape[1], 1))\n",
    "    X_test = np.reshape(X_test.values, (X_test.shape[0], X_test.shape[1], 1))\n",
    "\n",
    "    return X_train, X_test, y_train, y_test\n",
    "\n",
    "\n",
    "def build_network(sequence_length=10, batch_shape=100, input_dim=1):\n",
    "    inputs = Input(batch_shape=(batch_shape, sequence_length, input_dim), name=\"input\")\n",
    "    lstm1 = LSTM(100, activation='tanh', return_sequences=True, stateful=True, name='lstm1')(inputs)\n",
    "    lstm2 = LSTM(100, activation='tanh', return_sequences=False, stateful=True, name='lstm2')(lstm1)\n",
    "    output = Dense(1, activation='tanh', name='output')(lstm2)\n",
    "    model = Model(inputs=inputs, outputs=output)\n",
    "    model.compile(optimizer='adam', loss='mse')\n",
    "    return model\n",
    "\n",
    "\n",
    "def create_callbacks(name):\n",
    "    tensorboard_callback = TensorBoard(log_dir=os.path.join(os.getcwd(), \"tb_log\", name), write_graph=True, write_grads=False)\n",
    "\n",
    "    return [tensorboard_callback]\n",
    "\n",
    "\n",
    "def make_prediction(X_test, model):\n",
    "    y_hat = model.predict(X_test)\n",
    "    y_hat = np.reshape(y_hat, (y_hat.size,))\n",
    "    return y_hat\n",
    "\n",
    "\n",
    "\n",
    "LAGS=10\n",
    "df = read_data()\n",
    "df_train = select_dates(df, start=\"2017-01-01\", end=\"2017-05-31\")\n",
    "df_test = select_dates(df, start=\"2017-06-01\", end=\"2017-06-30\")\n",
    "X_train, X_test, y_train, y_test = prep_data(df_train, df_test, lags=LAGS)\n",
    "# model = build_network(sequence_length=LAGS)\n",
    "# callbacks = create_callbacks(\"lstm_100_100\")\n",
    "# model.fit(x=X_train, y=y_train,\n",
    "#               batch_size=100,\n",
    "#               epochs=10,\n",
    "#               callbacks=callbacks)"
   ]
  },
  {
   "cell_type": "code",
   "execution_count": 3,
   "metadata": {},
   "outputs": [
    {
     "data": {
      "text/plain": [
       "(216000, 10, 1)"
      ]
     },
     "execution_count": 3,
     "metadata": {},
     "output_type": "execute_result"
    }
   ],
   "source": [
    "X_train.shape"
   ]
  },
  {
   "cell_type": "code",
   "execution_count": 4,
   "metadata": {},
   "outputs": [
    {
     "data": {
      "text/plain": [
       "(216000, 7)"
      ]
     },
     "execution_count": 4,
     "metadata": {},
     "output_type": "execute_result"
    }
   ],
   "source": [
    "df_train.shape"
   ]
  },
  {
   "cell_type": "code",
   "execution_count": 5,
   "metadata": {},
   "outputs": [],
   "source": [
    "model = build_network(sequence_length=LAGS)"
   ]
  },
  {
   "cell_type": "code",
   "execution_count": 6,
   "metadata": {},
   "outputs": [
    {
     "name": "stdout",
     "output_type": "stream",
     "text": [
      "_________________________________________________________________\n",
      "Layer (type)                 Output Shape              Param #   \n",
      "=================================================================\n",
      "input (InputLayer)           (100, 10, 1)              0         \n",
      "_________________________________________________________________\n",
      "lstm1 (LSTM)                 (100, 10, 100)            40800     \n",
      "_________________________________________________________________\n",
      "lstm2 (LSTM)                 (100, 100)                80400     \n",
      "_________________________________________________________________\n",
      "output (Dense)               (100, 1)                  101       \n",
      "=================================================================\n",
      "Total params: 121,301\n",
      "Trainable params: 121,301\n",
      "Non-trainable params: 0\n",
      "_________________________________________________________________\n"
     ]
    }
   ],
   "source": [
    "model.summary()"
   ]
  },
  {
   "cell_type": "code",
   "execution_count": null,
   "metadata": {},
   "outputs": [],
   "source": []
  }
 ],
 "metadata": {
  "kernelspec": {
   "display_name": "Python 3",
   "language": "python",
   "name": "python3"
  },
  "language_info": {
   "codemirror_mode": {
    "name": "ipython",
    "version": 3
   },
   "file_extension": ".py",
   "mimetype": "text/x-python",
   "name": "python",
   "nbconvert_exporter": "python",
   "pygments_lexer": "ipython3",
   "version": "3.6.4"
  }
 },
 "nbformat": 4,
 "nbformat_minor": 2
}
